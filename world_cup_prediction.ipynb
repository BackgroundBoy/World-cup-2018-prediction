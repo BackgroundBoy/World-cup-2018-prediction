{
  "nbformat": 4,
  "nbformat_minor": 0,
  "metadata": {
    "colab": {
      "name": "world_cup_prediction.ipynb",
      "provenance": [],
      "collapsed_sections": [],
      "toc_visible": true
    },
    "kernelspec": {
      "name": "python3",
      "display_name": "Python 3"
    }
  },
  "cells": [
    {
      "cell_type": "markdown",
      "metadata": {
        "id": "W51s7okFI1Pz",
        "colab_type": "text"
      },
      "source": [
        "# World Cup Prediction \n",
        "## Introduction\n",
        "  This project aim to use past data of international football match to predict the outcome of matches and simulate the 2018 world cup to find the champion.\n",
        "\n",
        "  The data that I use in this project is from Kaggle:\n",
        "1. [FIFA Ranking](https://www.kaggle.com/tadhgfitzgerald/fifa-international-soccer-mens-ranking-1993now) \n",
        "2. [International Footbal Match Result from 1872 to 2018](https://www.kaggle.com/martj42/international-football-results-from-1872-to-2017) \n",
        "3. [2018 FIFA World Cup Group Stage Schedule](https://www.kaggle.com/ahmedelnaggar/fifa-worldcup-2018-dataset) \n",
        "\n",
        "There are 2 problem that I will try to solve \n",
        "1. predict the outcome of the match (classification problem)\n",
        "2. predict the score difference of the match (regression problem) \n"
      ]
    },
    {
      "cell_type": "markdown",
      "metadata": {
        "id": "FULACNBDPIer",
        "colab_type": "text"
      },
      "source": [
        "### Mount and import data from google drive\n"
      ]
    },
    {
      "cell_type": "code",
      "metadata": {
        "id": "jlp_LOGwH81l",
        "colab_type": "code",
        "outputId": "5436e9fa-3bd5-497d-8268-a122a286e547",
        "colab": {
          "base_uri": "https://localhost:8080/",
          "height": 121
        }
      },
      "source": [
        "from google.colab import drive\n",
        "drive.mount('/content/drive')"
      ],
      "execution_count": 1,
      "outputs": [
        {
          "output_type": "stream",
          "text": [
            "Go to this URL in a browser: https://accounts.google.com/o/oauth2/auth?client_id=947318989803-6bn6qk8qdgf4n4g3pfee6491hc0brc4i.apps.googleusercontent.com&redirect_uri=urn%3aietf%3awg%3aoauth%3a2.0%3aoob&response_type=code&scope=email%20https%3a%2f%2fwww.googleapis.com%2fauth%2fdocs.test%20https%3a%2f%2fwww.googleapis.com%2fauth%2fdrive%20https%3a%2f%2fwww.googleapis.com%2fauth%2fdrive.photos.readonly%20https%3a%2f%2fwww.googleapis.com%2fauth%2fpeopleapi.readonly\n",
            "\n",
            "Enter your authorization code:\n",
            "··········\n",
            "Mounted at /content/drive\n"
          ],
          "name": "stdout"
        }
      ]
    },
    {
      "cell_type": "code",
      "metadata": {
        "id": "mCkkoTjZRKxu",
        "colab_type": "code",
        "colab": {}
      },
      "source": [
        "# Data path \n",
        "ranking_path = '/content/drive/My Drive/Pattern Recognition/data/fifa_ranking.csv'\n",
        "matches_path = '/content/drive/My Drive/Pattern Recognition/data/results.csv'\n",
        "schedule_path = '/content/drive/My Drive/Pattern Recognition/data/World Cup 2018 Dataset.csv'"
      ],
      "execution_count": 0,
      "outputs": []
    },
    {
      "cell_type": "code",
      "metadata": {
        "id": "9N8AGsnFTIcX",
        "colab_type": "code",
        "colab": {}
      },
      "source": [
        "# import libraries\n",
        "import numpy as np\n",
        "import pandas as pd\n",
        "import matplotlib.pyplot as plt\n",
        "import seaborn as sns\n",
        "%matplotlib inline"
      ],
      "execution_count": 0,
      "outputs": []
    },
    {
      "cell_type": "code",
      "metadata": {
        "id": "E2PcwIA5TaFQ",
        "colab_type": "code",
        "colab": {}
      },
      "source": [
        "# import \n",
        "rankings = pd.read_csv(ranking_path)\n",
        "matches = pd.read_csv(matches_path)\n",
        "schedule = pd.read_csv(schedule_path) "
      ],
      "execution_count": 0,
      "outputs": []
    },
    {
      "cell_type": "markdown",
      "metadata": {
        "id": "ktbGy8lNUigj",
        "colab_type": "text"
      },
      "source": [
        "### Prepare data\n",
        "\n",
        "Let's explore the data first. We will focus on the rankings and matches data set because that is the input of our model\n"
      ]
    },
    {
      "cell_type": "code",
      "metadata": {
        "id": "lptOxHvMT9X0",
        "colab_type": "code",
        "outputId": "d8e422a9-2a1b-41c3-da33-a0645753c2e2",
        "colab": {
          "base_uri": "https://localhost:8080/",
          "height": 206
        }
      },
      "source": [
        "rankings.head(3)"
      ],
      "execution_count": 5,
      "outputs": [
        {
          "output_type": "execute_result",
          "data": {
            "text/html": [
              "<div>\n",
              "<style scoped>\n",
              "    .dataframe tbody tr th:only-of-type {\n",
              "        vertical-align: middle;\n",
              "    }\n",
              "\n",
              "    .dataframe tbody tr th {\n",
              "        vertical-align: top;\n",
              "    }\n",
              "\n",
              "    .dataframe thead th {\n",
              "        text-align: right;\n",
              "    }\n",
              "</style>\n",
              "<table border=\"1\" class=\"dataframe\">\n",
              "  <thead>\n",
              "    <tr style=\"text-align: right;\">\n",
              "      <th></th>\n",
              "      <th>rank</th>\n",
              "      <th>country_full</th>\n",
              "      <th>country_abrv</th>\n",
              "      <th>total_points</th>\n",
              "      <th>previous_points</th>\n",
              "      <th>rank_change</th>\n",
              "      <th>cur_year_avg</th>\n",
              "      <th>cur_year_avg_weighted</th>\n",
              "      <th>last_year_avg</th>\n",
              "      <th>last_year_avg_weighted</th>\n",
              "      <th>two_year_ago_avg</th>\n",
              "      <th>two_year_ago_weighted</th>\n",
              "      <th>three_year_ago_avg</th>\n",
              "      <th>three_year_ago_weighted</th>\n",
              "      <th>confederation</th>\n",
              "      <th>rank_date</th>\n",
              "    </tr>\n",
              "  </thead>\n",
              "  <tbody>\n",
              "    <tr>\n",
              "      <th>0</th>\n",
              "      <td>1</td>\n",
              "      <td>Germany</td>\n",
              "      <td>GER</td>\n",
              "      <td>0.0</td>\n",
              "      <td>57</td>\n",
              "      <td>0</td>\n",
              "      <td>0.0</td>\n",
              "      <td>0.0</td>\n",
              "      <td>0.0</td>\n",
              "      <td>0.0</td>\n",
              "      <td>0.0</td>\n",
              "      <td>0.0</td>\n",
              "      <td>0.0</td>\n",
              "      <td>0.0</td>\n",
              "      <td>UEFA</td>\n",
              "      <td>1993-08-08</td>\n",
              "    </tr>\n",
              "    <tr>\n",
              "      <th>1</th>\n",
              "      <td>2</td>\n",
              "      <td>Italy</td>\n",
              "      <td>ITA</td>\n",
              "      <td>0.0</td>\n",
              "      <td>57</td>\n",
              "      <td>0</td>\n",
              "      <td>0.0</td>\n",
              "      <td>0.0</td>\n",
              "      <td>0.0</td>\n",
              "      <td>0.0</td>\n",
              "      <td>0.0</td>\n",
              "      <td>0.0</td>\n",
              "      <td>0.0</td>\n",
              "      <td>0.0</td>\n",
              "      <td>UEFA</td>\n",
              "      <td>1993-08-08</td>\n",
              "    </tr>\n",
              "    <tr>\n",
              "      <th>2</th>\n",
              "      <td>3</td>\n",
              "      <td>Switzerland</td>\n",
              "      <td>SUI</td>\n",
              "      <td>0.0</td>\n",
              "      <td>50</td>\n",
              "      <td>9</td>\n",
              "      <td>0.0</td>\n",
              "      <td>0.0</td>\n",
              "      <td>0.0</td>\n",
              "      <td>0.0</td>\n",
              "      <td>0.0</td>\n",
              "      <td>0.0</td>\n",
              "      <td>0.0</td>\n",
              "      <td>0.0</td>\n",
              "      <td>UEFA</td>\n",
              "      <td>1993-08-08</td>\n",
              "    </tr>\n",
              "  </tbody>\n",
              "</table>\n",
              "</div>"
            ],
            "text/plain": [
              "   rank country_full  ... confederation   rank_date\n",
              "0     1      Germany  ...          UEFA  1993-08-08\n",
              "1     2        Italy  ...          UEFA  1993-08-08\n",
              "2     3  Switzerland  ...          UEFA  1993-08-08\n",
              "\n",
              "[3 rows x 16 columns]"
            ]
          },
          "metadata": {
            "tags": []
          },
          "execution_count": 5
        }
      ]
    },
    {
      "cell_type": "code",
      "metadata": {
        "id": "1ts0SMFWfgLx",
        "colab_type": "code",
        "outputId": "0d5e8b33-98d2-4455-e2c4-659081ee382a",
        "colab": {
          "base_uri": "https://localhost:8080/",
          "height": 136
        }
      },
      "source": [
        "matches.head(3)"
      ],
      "execution_count": 6,
      "outputs": [
        {
          "output_type": "execute_result",
          "data": {
            "text/html": [
              "<div>\n",
              "<style scoped>\n",
              "    .dataframe tbody tr th:only-of-type {\n",
              "        vertical-align: middle;\n",
              "    }\n",
              "\n",
              "    .dataframe tbody tr th {\n",
              "        vertical-align: top;\n",
              "    }\n",
              "\n",
              "    .dataframe thead th {\n",
              "        text-align: right;\n",
              "    }\n",
              "</style>\n",
              "<table border=\"1\" class=\"dataframe\">\n",
              "  <thead>\n",
              "    <tr style=\"text-align: right;\">\n",
              "      <th></th>\n",
              "      <th>date</th>\n",
              "      <th>home_team</th>\n",
              "      <th>away_team</th>\n",
              "      <th>home_score</th>\n",
              "      <th>away_score</th>\n",
              "      <th>tournament</th>\n",
              "      <th>city</th>\n",
              "      <th>country</th>\n",
              "      <th>neutral</th>\n",
              "    </tr>\n",
              "  </thead>\n",
              "  <tbody>\n",
              "    <tr>\n",
              "      <th>0</th>\n",
              "      <td>1872-11-30</td>\n",
              "      <td>Scotland</td>\n",
              "      <td>England</td>\n",
              "      <td>0</td>\n",
              "      <td>0</td>\n",
              "      <td>Friendly</td>\n",
              "      <td>Glasgow</td>\n",
              "      <td>Scotland</td>\n",
              "      <td>False</td>\n",
              "    </tr>\n",
              "    <tr>\n",
              "      <th>1</th>\n",
              "      <td>1873-03-08</td>\n",
              "      <td>England</td>\n",
              "      <td>Scotland</td>\n",
              "      <td>4</td>\n",
              "      <td>2</td>\n",
              "      <td>Friendly</td>\n",
              "      <td>London</td>\n",
              "      <td>England</td>\n",
              "      <td>False</td>\n",
              "    </tr>\n",
              "    <tr>\n",
              "      <th>2</th>\n",
              "      <td>1874-03-07</td>\n",
              "      <td>Scotland</td>\n",
              "      <td>England</td>\n",
              "      <td>2</td>\n",
              "      <td>1</td>\n",
              "      <td>Friendly</td>\n",
              "      <td>Glasgow</td>\n",
              "      <td>Scotland</td>\n",
              "      <td>False</td>\n",
              "    </tr>\n",
              "  </tbody>\n",
              "</table>\n",
              "</div>"
            ],
            "text/plain": [
              "         date home_team away_team  ...     city   country neutral\n",
              "0  1872-11-30  Scotland   England  ...  Glasgow  Scotland   False\n",
              "1  1873-03-08   England  Scotland  ...   London   England   False\n",
              "2  1874-03-07  Scotland   England  ...  Glasgow  Scotland   False\n",
              "\n",
              "[3 rows x 9 columns]"
            ]
          },
          "metadata": {
            "tags": []
          },
          "execution_count": 6
        }
      ]
    },
    {
      "cell_type": "code",
      "metadata": {
        "id": "YExGuKwXP7cF",
        "colab_type": "code",
        "outputId": "68ac52dc-19e4-4c26-e437-e1e529fa80c2",
        "colab": {
          "base_uri": "https://localhost:8080/",
          "height": 274
        }
      },
      "source": [
        "schedule.head(3)"
      ],
      "execution_count": 7,
      "outputs": [
        {
          "output_type": "execute_result",
          "data": {
            "text/html": [
              "<div>\n",
              "<style scoped>\n",
              "    .dataframe tbody tr th:only-of-type {\n",
              "        vertical-align: middle;\n",
              "    }\n",
              "\n",
              "    .dataframe tbody tr th {\n",
              "        vertical-align: top;\n",
              "    }\n",
              "\n",
              "    .dataframe thead th {\n",
              "        text-align: right;\n",
              "    }\n",
              "</style>\n",
              "<table border=\"1\" class=\"dataframe\">\n",
              "  <thead>\n",
              "    <tr style=\"text-align: right;\">\n",
              "      <th></th>\n",
              "      <th>Team</th>\n",
              "      <th>Group</th>\n",
              "      <th>Previous \\nappearances</th>\n",
              "      <th>Previous \\ntitles</th>\n",
              "      <th>Previous\\n finals</th>\n",
              "      <th>Previous\\n semifinals</th>\n",
              "      <th>Current \\nFIFA rank</th>\n",
              "      <th>First match \\nagainst</th>\n",
              "      <th>Match index</th>\n",
              "      <th>history with \\nfirst opponent\\n W-L</th>\n",
              "      <th>history with\\n first opponent\\n goals</th>\n",
              "      <th>Second match\\n against</th>\n",
              "      <th>Match index.1</th>\n",
              "      <th>history with\\n second opponent\\n W-L</th>\n",
              "      <th>history with\\n second opponent\\n goals</th>\n",
              "      <th>Third match\\n against</th>\n",
              "      <th>Match index.2</th>\n",
              "      <th>history with\\n third opponent\\n W-L</th>\n",
              "      <th>history with\\n third opponent\\n goals</th>\n",
              "      <th>Unnamed: 19</th>\n",
              "    </tr>\n",
              "  </thead>\n",
              "  <tbody>\n",
              "    <tr>\n",
              "      <th>0</th>\n",
              "      <td>Russia</td>\n",
              "      <td>A</td>\n",
              "      <td>10.0</td>\n",
              "      <td>0.0</td>\n",
              "      <td>0.0</td>\n",
              "      <td>1.0</td>\n",
              "      <td>65.0</td>\n",
              "      <td>Saudi Arabia</td>\n",
              "      <td>1.0</td>\n",
              "      <td>-1.0</td>\n",
              "      <td>-2.0</td>\n",
              "      <td>Egypt</td>\n",
              "      <td>17.0</td>\n",
              "      <td>NaN</td>\n",
              "      <td>NaN</td>\n",
              "      <td>Uruguay</td>\n",
              "      <td>33.0</td>\n",
              "      <td>0.0</td>\n",
              "      <td>0.0</td>\n",
              "      <td>NaN</td>\n",
              "    </tr>\n",
              "    <tr>\n",
              "      <th>1</th>\n",
              "      <td>Saudi Arabia</td>\n",
              "      <td>A</td>\n",
              "      <td>4.0</td>\n",
              "      <td>0.0</td>\n",
              "      <td>0.0</td>\n",
              "      <td>0.0</td>\n",
              "      <td>63.0</td>\n",
              "      <td>Russia</td>\n",
              "      <td>1.0</td>\n",
              "      <td>1.0</td>\n",
              "      <td>2.0</td>\n",
              "      <td>Uruguay</td>\n",
              "      <td>18.0</td>\n",
              "      <td>1.0</td>\n",
              "      <td>1.0</td>\n",
              "      <td>Egypt</td>\n",
              "      <td>34.0</td>\n",
              "      <td>-5.0</td>\n",
              "      <td>-5.0</td>\n",
              "      <td>NaN</td>\n",
              "    </tr>\n",
              "    <tr>\n",
              "      <th>2</th>\n",
              "      <td>Egypt</td>\n",
              "      <td>A</td>\n",
              "      <td>2.0</td>\n",
              "      <td>0.0</td>\n",
              "      <td>0.0</td>\n",
              "      <td>0.0</td>\n",
              "      <td>31.0</td>\n",
              "      <td>Uruguay</td>\n",
              "      <td>2.0</td>\n",
              "      <td>-1.0</td>\n",
              "      <td>-2.0</td>\n",
              "      <td>Russia</td>\n",
              "      <td>17.0</td>\n",
              "      <td>NaN</td>\n",
              "      <td>NaN</td>\n",
              "      <td>Saudi Arabia</td>\n",
              "      <td>34.0</td>\n",
              "      <td>5.0</td>\n",
              "      <td>5.0</td>\n",
              "      <td>NaN</td>\n",
              "    </tr>\n",
              "  </tbody>\n",
              "</table>\n",
              "</div>"
            ],
            "text/plain": [
              "           Team Group  ...  history with\\n third opponent\\n goals  Unnamed: 19\n",
              "0        Russia     A  ...                                    0.0          NaN\n",
              "1  Saudi Arabia     A  ...                                   -5.0          NaN\n",
              "2         Egypt     A  ...                                    5.0          NaN\n",
              "\n",
              "[3 rows x 20 columns]"
            ]
          },
          "metadata": {
            "tags": []
          },
          "execution_count": 7
        }
      ]
    },
    {
      "cell_type": "code",
      "metadata": {
        "id": "uLpd4bZxWIz2",
        "colab_type": "code",
        "colab": {}
      },
      "source": [
        "# QoL functions\n",
        "\n",
        "def get_rank(rank):\n",
        "  r = rank\n",
        "  r = rank.replace({'IR Iran' : 'Iran'})\n",
        "  r['rank_date'] = pd.to_datetime(r['rank_date'])\n",
        "  \n",
        "  ## selected column\n",
        "  col = ['rank','country_full','rank_date', 'total_points', 'country_abrv']\n",
        "  ##\n",
        "  return r[col]\n",
        "\n",
        "def get_matches(matches):\n",
        "  m = matches\n",
        "  m = m.replace({'Germany DR': 'Germany', 'China': 'China PR'})\n",
        "  m['date'] = pd.to_datetime(m['date'])\n",
        "  return m"
      ],
      "execution_count": 0,
      "outputs": []
    },
    {
      "cell_type": "code",
      "metadata": {
        "id": "h3m36rgOfi8J",
        "colab_type": "code",
        "colab": {}
      },
      "source": [
        "# matches (zero NaN)\n",
        "match = get_matches(matches)\n",
        "\n",
        "# ranking (zero NaN)\n",
        "rank = get_rank(rankings)\n",
        "\n",
        "# schedule (last row == NaN)\n",
        "schedule = schedule[['Team','Group','First match \\nagainst', 'Second match\\n against', 'Third match\\n against']].dropna()\n",
        "schedule = schedule.replace({\"IRAN\": \"Iran\", \"Costarica\": \"Costa Rica\", \"Porugal\": \"Portugal\", \"Columbia\": \"Colombia\", \"Korea\" : \"Korea Republic\"})\n",
        "schedule.set_index('Team',  inplace=True)"
      ],
      "execution_count": 0,
      "outputs": []
    },
    {
      "cell_type": "markdown",
      "metadata": {
        "id": "onC4YXjeV43Z",
        "colab_type": "text"
      },
      "source": [
        "### Feature extraction\n"
      ]
    },
    {
      "cell_type": "code",
      "metadata": {
        "id": "DFfXufAyV39K",
        "colab_type": "code",
        "colab": {}
      },
      "source": [
        "rank = rank.set_index('rank_date').groupby(['country_full'], group_keys=False).resample('D').first().fillna(method='ffill').reset_index()"
      ],
      "execution_count": 0,
      "outputs": []
    },
    {
      "cell_type": "code",
      "metadata": {
        "id": "Cf4Dxe15mgWq",
        "colab_type": "code",
        "outputId": "5599a697-d632-4fc9-c920-b0644a525ab4",
        "colab": {
          "base_uri": "https://localhost:8080/",
          "height": 350
        }
      },
      "source": [
        "match = match.merge(rank, left_on=['date','home_team'], right_on=['rank_date', 'country_full'])\n",
        "match = match.merge(rank, left_on=['date','away_team'], right_on=['rank_date', 'country_full'], suffixes=['_home','_away'])\n",
        "match.head()"
      ],
      "execution_count": 11,
      "outputs": [
        {
          "output_type": "execute_result",
          "data": {
            "text/html": [
              "<div>\n",
              "<style scoped>\n",
              "    .dataframe tbody tr th:only-of-type {\n",
              "        vertical-align: middle;\n",
              "    }\n",
              "\n",
              "    .dataframe tbody tr th {\n",
              "        vertical-align: top;\n",
              "    }\n",
              "\n",
              "    .dataframe thead th {\n",
              "        text-align: right;\n",
              "    }\n",
              "</style>\n",
              "<table border=\"1\" class=\"dataframe\">\n",
              "  <thead>\n",
              "    <tr style=\"text-align: right;\">\n",
              "      <th></th>\n",
              "      <th>date</th>\n",
              "      <th>home_team</th>\n",
              "      <th>away_team</th>\n",
              "      <th>home_score</th>\n",
              "      <th>away_score</th>\n",
              "      <th>tournament</th>\n",
              "      <th>city</th>\n",
              "      <th>country</th>\n",
              "      <th>neutral</th>\n",
              "      <th>rank_date_home</th>\n",
              "      <th>rank_home</th>\n",
              "      <th>country_full_home</th>\n",
              "      <th>total_points_home</th>\n",
              "      <th>country_abrv_home</th>\n",
              "      <th>rank_date_away</th>\n",
              "      <th>rank_away</th>\n",
              "      <th>country_full_away</th>\n",
              "      <th>total_points_away</th>\n",
              "      <th>country_abrv_away</th>\n",
              "    </tr>\n",
              "  </thead>\n",
              "  <tbody>\n",
              "    <tr>\n",
              "      <th>0</th>\n",
              "      <td>1993-08-08</td>\n",
              "      <td>Bolivia</td>\n",
              "      <td>Uruguay</td>\n",
              "      <td>3</td>\n",
              "      <td>1</td>\n",
              "      <td>FIFA World Cup qualification</td>\n",
              "      <td>La Paz</td>\n",
              "      <td>Bolivia</td>\n",
              "      <td>False</td>\n",
              "      <td>1993-08-08</td>\n",
              "      <td>59.0</td>\n",
              "      <td>Bolivia</td>\n",
              "      <td>0.0</td>\n",
              "      <td>BOL</td>\n",
              "      <td>1993-08-08</td>\n",
              "      <td>22.0</td>\n",
              "      <td>Uruguay</td>\n",
              "      <td>0.0</td>\n",
              "      <td>URU</td>\n",
              "    </tr>\n",
              "    <tr>\n",
              "      <th>1</th>\n",
              "      <td>1993-08-08</td>\n",
              "      <td>Brazil</td>\n",
              "      <td>Mexico</td>\n",
              "      <td>1</td>\n",
              "      <td>1</td>\n",
              "      <td>Friendly</td>\n",
              "      <td>Maceió</td>\n",
              "      <td>Brazil</td>\n",
              "      <td>False</td>\n",
              "      <td>1993-08-08</td>\n",
              "      <td>8.0</td>\n",
              "      <td>Brazil</td>\n",
              "      <td>0.0</td>\n",
              "      <td>BRA</td>\n",
              "      <td>1993-08-08</td>\n",
              "      <td>14.0</td>\n",
              "      <td>Mexico</td>\n",
              "      <td>0.0</td>\n",
              "      <td>MEX</td>\n",
              "    </tr>\n",
              "    <tr>\n",
              "      <th>2</th>\n",
              "      <td>1993-08-08</td>\n",
              "      <td>Ecuador</td>\n",
              "      <td>Venezuela</td>\n",
              "      <td>5</td>\n",
              "      <td>0</td>\n",
              "      <td>FIFA World Cup qualification</td>\n",
              "      <td>Quito</td>\n",
              "      <td>Ecuador</td>\n",
              "      <td>False</td>\n",
              "      <td>1993-08-08</td>\n",
              "      <td>35.0</td>\n",
              "      <td>Ecuador</td>\n",
              "      <td>0.0</td>\n",
              "      <td>ECU</td>\n",
              "      <td>1993-08-08</td>\n",
              "      <td>94.0</td>\n",
              "      <td>Venezuela</td>\n",
              "      <td>0.0</td>\n",
              "      <td>VEN</td>\n",
              "    </tr>\n",
              "    <tr>\n",
              "      <th>3</th>\n",
              "      <td>1993-08-08</td>\n",
              "      <td>Guinea</td>\n",
              "      <td>Sierra Leone</td>\n",
              "      <td>1</td>\n",
              "      <td>0</td>\n",
              "      <td>Friendly</td>\n",
              "      <td>Conakry</td>\n",
              "      <td>Guinea</td>\n",
              "      <td>False</td>\n",
              "      <td>1993-08-08</td>\n",
              "      <td>65.0</td>\n",
              "      <td>Guinea</td>\n",
              "      <td>0.0</td>\n",
              "      <td>GUI</td>\n",
              "      <td>1993-08-08</td>\n",
              "      <td>86.0</td>\n",
              "      <td>Sierra Leone</td>\n",
              "      <td>0.0</td>\n",
              "      <td>SLE</td>\n",
              "    </tr>\n",
              "    <tr>\n",
              "      <th>4</th>\n",
              "      <td>1993-08-08</td>\n",
              "      <td>Paraguay</td>\n",
              "      <td>Argentina</td>\n",
              "      <td>1</td>\n",
              "      <td>3</td>\n",
              "      <td>FIFA World Cup qualification</td>\n",
              "      <td>Asunción</td>\n",
              "      <td>Paraguay</td>\n",
              "      <td>False</td>\n",
              "      <td>1993-08-08</td>\n",
              "      <td>67.0</td>\n",
              "      <td>Paraguay</td>\n",
              "      <td>0.0</td>\n",
              "      <td>PAR</td>\n",
              "      <td>1993-08-08</td>\n",
              "      <td>5.0</td>\n",
              "      <td>Argentina</td>\n",
              "      <td>0.0</td>\n",
              "      <td>ARG</td>\n",
              "    </tr>\n",
              "  </tbody>\n",
              "</table>\n",
              "</div>"
            ],
            "text/plain": [
              "        date home_team  ... total_points_away  country_abrv_away\n",
              "0 1993-08-08   Bolivia  ...               0.0                URU\n",
              "1 1993-08-08    Brazil  ...               0.0                MEX\n",
              "2 1993-08-08   Ecuador  ...               0.0                VEN\n",
              "3 1993-08-08    Guinea  ...               0.0                SLE\n",
              "4 1993-08-08  Paraguay  ...               0.0                ARG\n",
              "\n",
              "[5 rows x 19 columns]"
            ]
          },
          "metadata": {
            "tags": []
          },
          "execution_count": 11
        }
      ]
    },
    {
      "cell_type": "code",
      "metadata": {
        "id": "bbi0jCtBj8Nc",
        "colab_type": "code",
        "outputId": "ecb1c48d-ee66-408d-a1b9-7da18b8fb541",
        "colab": {
          "base_uri": "https://localhost:8080/",
          "height": 202
        }
      },
      "source": [
        "match[\"tournament\"].value_counts()[:10]"
      ],
      "execution_count": 12,
      "outputs": [
        {
          "output_type": "execute_result",
          "data": {
            "text/plain": [
              "Friendly                                6717\n",
              "FIFA World Cup qualification            4116\n",
              "UEFA Euro qualification                 1406\n",
              "African Cup of Nations qualification     897\n",
              "AFC Asian Cup qualification              426\n",
              "FIFA World Cup                           313\n",
              "CECAFA Cup                               308\n",
              "African Cup of Nations                   304\n",
              "COSAFA Cup                               229\n",
              "Copa América                             225\n",
              "Name: tournament, dtype: int64"
            ]
          },
          "metadata": {
            "tags": []
          },
          "execution_count": 12
        }
      ]
    },
    {
      "cell_type": "code",
      "metadata": {
        "id": "9b5bnUl1tV-e",
        "colab_type": "code",
        "colab": {}
      },
      "source": [
        "data = match[['home_team','away_team','home_score','away_score','tournament','rank_home','rank_away','country','total_points_home','total_points_away','rank_date_home']]"
      ],
      "execution_count": 0,
      "outputs": []
    },
    {
      "cell_type": "code",
      "metadata": {
        "id": "vzRFgHJWuqbF",
        "colab_type": "code",
        "outputId": "2b2a2f50-169f-4aa0-bae4-25dd010539c7",
        "colab": {
          "base_uri": "https://localhost:8080/",
          "height": 622
        }
      },
      "source": [
        "# create new features: rank difference, is home, is friendly\n",
        "data['rank_diff'] = data['rank_home'] - data['rank_away']\n",
        "data['is_home'] = data['home_team'] == data['country']\n",
        "data['is_friendly'] = data['tournament'] == 'Friendly'\n",
        "data['points_diff'] = data.loc[:,'total_points_home'] - data.loc[:,'total_points_away']\n",
        "\n",
        "# create target: outcome, score difference\n",
        "##\n",
        "def class_outcome(x):\n",
        "  if x > 0: return 1    # win\n",
        "  else: return 0 # draw/loss\n",
        "  # else: return 2        # lose\n",
        "##\n",
        "data['score_diff'] = data.loc[:,'home_score'] - data.loc[:,'away_score']\n",
        "data['outcome'] = data.loc[:,'score_diff'].apply(class_outcome)"
      ],
      "execution_count": 14,
      "outputs": [
        {
          "output_type": "stream",
          "text": [
            "/usr/local/lib/python3.6/dist-packages/ipykernel_launcher.py:1: SettingWithCopyWarning: \n",
            "A value is trying to be set on a copy of a slice from a DataFrame.\n",
            "Try using .loc[row_indexer,col_indexer] = value instead\n",
            "\n",
            "See the caveats in the documentation: http://pandas.pydata.org/pandas-docs/stable/user_guide/indexing.html#returning-a-view-versus-a-copy\n",
            "  \"\"\"Entry point for launching an IPython kernel.\n",
            "/usr/local/lib/python3.6/dist-packages/ipykernel_launcher.py:2: SettingWithCopyWarning: \n",
            "A value is trying to be set on a copy of a slice from a DataFrame.\n",
            "Try using .loc[row_indexer,col_indexer] = value instead\n",
            "\n",
            "See the caveats in the documentation: http://pandas.pydata.org/pandas-docs/stable/user_guide/indexing.html#returning-a-view-versus-a-copy\n",
            "  \n",
            "/usr/local/lib/python3.6/dist-packages/ipykernel_launcher.py:3: SettingWithCopyWarning: \n",
            "A value is trying to be set on a copy of a slice from a DataFrame.\n",
            "Try using .loc[row_indexer,col_indexer] = value instead\n",
            "\n",
            "See the caveats in the documentation: http://pandas.pydata.org/pandas-docs/stable/user_guide/indexing.html#returning-a-view-versus-a-copy\n",
            "  This is separate from the ipykernel package so we can avoid doing imports until\n",
            "/usr/local/lib/python3.6/dist-packages/ipykernel_launcher.py:4: SettingWithCopyWarning: \n",
            "A value is trying to be set on a copy of a slice from a DataFrame.\n",
            "Try using .loc[row_indexer,col_indexer] = value instead\n",
            "\n",
            "See the caveats in the documentation: http://pandas.pydata.org/pandas-docs/stable/user_guide/indexing.html#returning-a-view-versus-a-copy\n",
            "  after removing the cwd from sys.path.\n",
            "/usr/local/lib/python3.6/dist-packages/ipykernel_launcher.py:13: SettingWithCopyWarning: \n",
            "A value is trying to be set on a copy of a slice from a DataFrame.\n",
            "Try using .loc[row_indexer,col_indexer] = value instead\n",
            "\n",
            "See the caveats in the documentation: http://pandas.pydata.org/pandas-docs/stable/user_guide/indexing.html#returning-a-view-versus-a-copy\n",
            "  del sys.path[0]\n",
            "/usr/local/lib/python3.6/dist-packages/ipykernel_launcher.py:14: SettingWithCopyWarning: \n",
            "A value is trying to be set on a copy of a slice from a DataFrame.\n",
            "Try using .loc[row_indexer,col_indexer] = value instead\n",
            "\n",
            "See the caveats in the documentation: http://pandas.pydata.org/pandas-docs/stable/user_guide/indexing.html#returning-a-view-versus-a-copy\n",
            "  \n"
          ],
          "name": "stderr"
        }
      ]
    },
    {
      "cell_type": "code",
      "metadata": {
        "id": "FbzP7Vr0yZEH",
        "colab_type": "code",
        "outputId": "52850c2f-c93a-422c-bd72-b0f0818731c8",
        "colab": {
          "base_uri": "https://localhost:8080/",
          "height": 279
        }
      },
      "source": [
        "sns.set_style('dark')\n",
        "sns.countplot('outcome',data=data, palette='GnBu_d')\n",
        "plt.show()\n",
        "# 1 == win \n",
        "# 0 == lose"
      ],
      "execution_count": 15,
      "outputs": [
        {
          "output_type": "display_data",
          "data": {
            "image/png": "[encoded data removed]",
            "text/plain": [
              "<Figure size 432x288 with 1 Axes>"
            ]
          },
          "metadata": {
            "tags": []
          }
        }
      ]
    },
    {
      "cell_type": "code",
      "metadata": {
        "id": "v9mNnb8U1jv0",
        "colab_type": "code",
        "outputId": "cbe2b560-726d-4d14-8ffa-b7c6de664bd8",
        "colab": {
          "base_uri": "https://localhost:8080/",
          "height": 347
        }
      },
      "source": [
        "# alt outcome\n",
        "def outcome3(x):\n",
        "  if x > 0: return 'win'    # win\n",
        "  elif x == 0: return 'draw' # draw\n",
        "  else: return 'lose'        # lose\n",
        "stats = data['score_diff'].apply(outcome3)\n",
        "print(stats.value_counts())\n",
        "# plot \n",
        "sns.countplot(stats, palette='GnBu_d')\n",
        "plt.show()"
      ],
      "execution_count": 16,
      "outputs": [
        {
          "output_type": "stream",
          "text": [
            "win     8589\n",
            "lose    4873\n",
            "draw    4277\n",
            "Name: score_diff, dtype: int64\n"
          ],
          "name": "stdout"
        },
        {
          "output_type": "display_data",
          "data": {
            "image/png": "[encoded data removed]",
            "text/plain": [
              "<Figure size 432x288 with 1 Axes>"
            ]
          },
          "metadata": {
            "tags": []
          }
        }
      ]
    },
    {
      "cell_type": "code",
      "metadata": {
        "id": "CGVFiBaPk2Dk",
        "colab_type": "code",
        "outputId": "5c3d702b-4644-4d56-ef15-913b6bc251ac",
        "colab": {
          "base_uri": "https://localhost:8080/",
          "height": 298
        }
      },
      "source": [
        "plt.figure()\n",
        "data['rank_diff'].plot.kde()\n",
        "plt.title('rank difference')"
      ],
      "execution_count": 17,
      "outputs": [
        {
          "output_type": "execute_result",
          "data": {
            "text/plain": [
              "Text(0.5, 1.0, 'rank difference')"
            ]
          },
          "metadata": {
            "tags": []
          },
          "execution_count": 17
        },
        {
          "output_type": "display_data",
          "data": {
            "image/png": "[encoded data removed]",
            "text/plain": [
              "<Figure size 432x288 with 1 Axes>"
            ]
          },
          "metadata": {
            "tags": []
          }
        }
      ]
    },
    {
      "cell_type": "code",
      "metadata": {
        "id": "waTbTb7Gl4ho",
        "colab_type": "code",
        "outputId": "dabeec71-f991-46a2-e2c8-8da1d32587f9",
        "colab": {
          "base_uri": "https://localhost:8080/",
          "height": 619
        }
      },
      "source": [
        "plt.figure(figsize=(5,10))\n",
        "var = 'rank_diff'\n",
        "sns.boxplot(x = 'outcome', y=var, data=data,palette='GnBu_d')\n",
        "plt.xticks(rotation=90)\n",
        "plt.show()\n",
        "\n",
        "\"\"\"\n",
        "  assumption : match with high ranl gap tend to be in favor of team with higher rank\n",
        "  real : the assumption is true but not always\n",
        "\"\"\""
      ],
      "execution_count": 18,
      "outputs": [
        {
          "output_type": "display_data",
          "data": {
            "image/png": "[encoded data removed]",
            "text/plain": [
              "<Figure size 360x720 with 1 Axes>"
            ]
          },
          "metadata": {
            "tags": []
          }
        },
        {
          "output_type": "execute_result",
          "data": {
            "text/plain": [
              "'\\n  assumption : match with high ranl gap tend to be in favor of team with higher rank\\n  real : the assumption is true but not always\\n'"
            ]
          },
          "metadata": {
            "tags": []
          },
          "execution_count": 18
        }
      ]
    },
    {
      "cell_type": "code",
      "metadata": {
        "id": "hImg2i8NuteD",
        "colab_type": "code",
        "outputId": "05ed4fc2-9b43-4178-831d-49d10fb49426",
        "colab": {
          "base_uri": "https://localhost:8080/",
          "height": 218
        }
      },
      "source": [
        "data.loc[:,'avg_rank'] = (data.loc[:,'rank_home'] + data.loc[:,'rank_away'])/2"
      ],
      "execution_count": 19,
      "outputs": [
        {
          "output_type": "stream",
          "text": [
            "/usr/local/lib/python3.6/dist-packages/pandas/core/indexing.py:376: SettingWithCopyWarning: \n",
            "A value is trying to be set on a copy of a slice from a DataFrame.\n",
            "Try using .loc[row_indexer,col_indexer] = value instead\n",
            "\n",
            "See the caveats in the documentation: http://pandas.pydata.org/pandas-docs/stable/user_guide/indexing.html#returning-a-view-versus-a-copy\n",
            "  self.obj[key] = _infer_fill_value(value)\n",
            "/usr/local/lib/python3.6/dist-packages/pandas/core/indexing.py:494: SettingWithCopyWarning: \n",
            "A value is trying to be set on a copy of a slice from a DataFrame.\n",
            "Try using .loc[row_indexer,col_indexer] = value instead\n",
            "\n",
            "See the caveats in the documentation: http://pandas.pydata.org/pandas-docs/stable/user_guide/indexing.html#returning-a-view-versus-a-copy\n",
            "  self.obj[item] = s\n"
          ],
          "name": "stderr"
        }
      ]
    },
    {
      "cell_type": "code",
      "metadata": {
        "id": "QRKo7x8LlJ-R",
        "colab_type": "code",
        "outputId": "b0ec6f74-204f-4a62-84c8-943b572dd9c4",
        "colab": {
          "base_uri": "https://localhost:8080/",
          "height": 304
        }
      },
      "source": [
        "data.describe()"
      ],
      "execution_count": 20,
      "outputs": [
        {
          "output_type": "execute_result",
          "data": {
            "text/html": [
              "<div>\n",
              "<style scoped>\n",
              "    .dataframe tbody tr th:only-of-type {\n",
              "        vertical-align: middle;\n",
              "    }\n",
              "\n",
              "    .dataframe tbody tr th {\n",
              "        vertical-align: top;\n",
              "    }\n",
              "\n",
              "    .dataframe thead th {\n",
              "        text-align: right;\n",
              "    }\n",
              "</style>\n",
              "<table border=\"1\" class=\"dataframe\">\n",
              "  <thead>\n",
              "    <tr style=\"text-align: right;\">\n",
              "      <th></th>\n",
              "      <th>home_score</th>\n",
              "      <th>away_score</th>\n",
              "      <th>rank_home</th>\n",
              "      <th>rank_away</th>\n",
              "      <th>total_points_home</th>\n",
              "      <th>total_points_away</th>\n",
              "      <th>rank_diff</th>\n",
              "      <th>points_diff</th>\n",
              "      <th>score_diff</th>\n",
              "      <th>outcome</th>\n",
              "      <th>avg_rank</th>\n",
              "    </tr>\n",
              "  </thead>\n",
              "  <tbody>\n",
              "    <tr>\n",
              "      <th>count</th>\n",
              "      <td>17739.000000</td>\n",
              "      <td>17739.000000</td>\n",
              "      <td>17739.000000</td>\n",
              "      <td>17739.000000</td>\n",
              "      <td>17739.000000</td>\n",
              "      <td>17739.000000</td>\n",
              "      <td>17739.000000</td>\n",
              "      <td>17739.000000</td>\n",
              "      <td>17739.000000</td>\n",
              "      <td>17739.000000</td>\n",
              "      <td>17739.000000</td>\n",
              "    </tr>\n",
              "    <tr>\n",
              "      <th>mean</th>\n",
              "      <td>1.609053</td>\n",
              "      <td>1.065562</td>\n",
              "      <td>76.042054</td>\n",
              "      <td>78.430464</td>\n",
              "      <td>154.728131</td>\n",
              "      <td>149.151144</td>\n",
              "      <td>-2.388410</td>\n",
              "      <td>5.576986</td>\n",
              "      <td>0.543492</td>\n",
              "      <td>0.484187</td>\n",
              "      <td>77.236259</td>\n",
              "    </tr>\n",
              "    <tr>\n",
              "      <th>std</th>\n",
              "      <td>1.625874</td>\n",
              "      <td>1.249078</td>\n",
              "      <td>51.016675</td>\n",
              "      <td>52.050922</td>\n",
              "      <td>303.042522</td>\n",
              "      <td>293.976589</td>\n",
              "      <td>52.885738</td>\n",
              "      <td>190.227669</td>\n",
              "      <td>2.207231</td>\n",
              "      <td>0.499764</td>\n",
              "      <td>44.235444</td>\n",
              "    </tr>\n",
              "    <tr>\n",
              "      <th>min</th>\n",
              "      <td>0.000000</td>\n",
              "      <td>0.000000</td>\n",
              "      <td>1.000000</td>\n",
              "      <td>1.000000</td>\n",
              "      <td>0.000000</td>\n",
              "      <td>0.000000</td>\n",
              "      <td>-202.000000</td>\n",
              "      <td>-1545.430000</td>\n",
              "      <td>-17.000000</td>\n",
              "      <td>0.000000</td>\n",
              "      <td>1.500000</td>\n",
              "    </tr>\n",
              "    <tr>\n",
              "      <th>25%</th>\n",
              "      <td>0.000000</td>\n",
              "      <td>0.000000</td>\n",
              "      <td>33.000000</td>\n",
              "      <td>35.000000</td>\n",
              "      <td>0.000000</td>\n",
              "      <td>0.000000</td>\n",
              "      <td>-35.000000</td>\n",
              "      <td>0.000000</td>\n",
              "      <td>-1.000000</td>\n",
              "      <td>0.000000</td>\n",
              "      <td>41.500000</td>\n",
              "    </tr>\n",
              "    <tr>\n",
              "      <th>50%</th>\n",
              "      <td>1.000000</td>\n",
              "      <td>1.000000</td>\n",
              "      <td>70.000000</td>\n",
              "      <td>71.000000</td>\n",
              "      <td>0.000000</td>\n",
              "      <td>0.000000</td>\n",
              "      <td>-3.000000</td>\n",
              "      <td>0.000000</td>\n",
              "      <td>0.000000</td>\n",
              "      <td>0.000000</td>\n",
              "      <td>72.500000</td>\n",
              "    </tr>\n",
              "    <tr>\n",
              "      <th>75%</th>\n",
              "      <td>2.000000</td>\n",
              "      <td>2.000000</td>\n",
              "      <td>112.000000</td>\n",
              "      <td>115.000000</td>\n",
              "      <td>187.480000</td>\n",
              "      <td>171.605000</td>\n",
              "      <td>29.000000</td>\n",
              "      <td>0.000000</td>\n",
              "      <td>2.000000</td>\n",
              "      <td>1.000000</td>\n",
              "      <td>107.000000</td>\n",
              "    </tr>\n",
              "    <tr>\n",
              "      <th>max</th>\n",
              "      <td>31.000000</td>\n",
              "      <td>17.000000</td>\n",
              "      <td>209.000000</td>\n",
              "      <td>209.000000</td>\n",
              "      <td>1770.060000</td>\n",
              "      <td>1770.060000</td>\n",
              "      <td>203.000000</td>\n",
              "      <td>1596.130000</td>\n",
              "      <td>31.000000</td>\n",
              "      <td>1.000000</td>\n",
              "      <td>204.000000</td>\n",
              "    </tr>\n",
              "  </tbody>\n",
              "</table>\n",
              "</div>"
            ],
            "text/plain": [
              "         home_score    away_score  ...       outcome      avg_rank\n",
              "count  17739.000000  17739.000000  ...  17739.000000  17739.000000\n",
              "mean       1.609053      1.065562  ...      0.484187     77.236259\n",
              "std        1.625874      1.249078  ...      0.499764     44.235444\n",
              "min        0.000000      0.000000  ...      0.000000      1.500000\n",
              "25%        0.000000      0.000000  ...      0.000000     41.500000\n",
              "50%        1.000000      1.000000  ...      0.000000     72.500000\n",
              "75%        2.000000      2.000000  ...      1.000000    107.000000\n",
              "max       31.000000     17.000000  ...      1.000000    204.000000\n",
              "\n",
              "[8 rows x 11 columns]"
            ]
          },
          "metadata": {
            "tags": []
          },
          "execution_count": 20
        }
      ]
    },
    {
      "cell_type": "markdown",
      "metadata": {
        "id": "TrWULSuf16fB",
        "colab_type": "text"
      },
      "source": [
        "## Feature Selection"
      ]
    },
    {
      "cell_type": "markdown",
      "metadata": {
        "id": "vSp0NzcgAKVD",
        "colab_type": "text"
      },
      "source": [
        "This is what I have try so far"
      ]
    },
    {
      "cell_type": "markdown",
      "metadata": {
        "id": "-Ofacrj1y22W",
        "colab_type": "text"
      },
      "source": [
        "### basic feature "
      ]
    },
    {
      "cell_type": "code",
      "metadata": {
        "id": "G_ZH7o-qy0uJ",
        "colab_type": "code",
        "outputId": "db875d3c-e780-4a8b-cafd-e87e87258d31",
        "colab": {
          "base_uri": "https://localhost:8080/",
          "height": 333
        }
      },
      "source": [
        "data.head()\n"
      ],
      "execution_count": 21,
      "outputs": [
        {
          "output_type": "execute_result",
          "data": {
            "text/html": [
              "<div>\n",
              "<style scoped>\n",
              "    .dataframe tbody tr th:only-of-type {\n",
              "        vertical-align: middle;\n",
              "    }\n",
              "\n",
              "    .dataframe tbody tr th {\n",
              "        vertical-align: top;\n",
              "    }\n",
              "\n",
              "    .dataframe thead th {\n",
              "        text-align: right;\n",
              "    }\n",
              "</style>\n",
              "<table border=\"1\" class=\"dataframe\">\n",
              "  <thead>\n",
              "    <tr style=\"text-align: right;\">\n",
              "      <th></th>\n",
              "      <th>home_team</th>\n",
              "      <th>away_team</th>\n",
              "      <th>home_score</th>\n",
              "      <th>away_score</th>\n",
              "      <th>tournament</th>\n",
              "      <th>rank_home</th>\n",
              "      <th>rank_away</th>\n",
              "      <th>country</th>\n",
              "      <th>total_points_home</th>\n",
              "      <th>total_points_away</th>\n",
              "      <th>rank_date_home</th>\n",
              "      <th>rank_diff</th>\n",
              "      <th>is_home</th>\n",
              "      <th>is_friendly</th>\n",
              "      <th>points_diff</th>\n",
              "      <th>score_diff</th>\n",
              "      <th>outcome</th>\n",
              "      <th>avg_rank</th>\n",
              "    </tr>\n",
              "  </thead>\n",
              "  <tbody>\n",
              "    <tr>\n",
              "      <th>0</th>\n",
              "      <td>Bolivia</td>\n",
              "      <td>Uruguay</td>\n",
              "      <td>3</td>\n",
              "      <td>1</td>\n",
              "      <td>FIFA World Cup qualification</td>\n",
              "      <td>59.0</td>\n",
              "      <td>22.0</td>\n",
              "      <td>Bolivia</td>\n",
              "      <td>0.0</td>\n",
              "      <td>0.0</td>\n",
              "      <td>1993-08-08</td>\n",
              "      <td>37.0</td>\n",
              "      <td>True</td>\n",
              "      <td>False</td>\n",
              "      <td>0.0</td>\n",
              "      <td>2</td>\n",
              "      <td>1</td>\n",
              "      <td>40.5</td>\n",
              "    </tr>\n",
              "    <tr>\n",
              "      <th>1</th>\n",
              "      <td>Brazil</td>\n",
              "      <td>Mexico</td>\n",
              "      <td>1</td>\n",
              "      <td>1</td>\n",
              "      <td>Friendly</td>\n",
              "      <td>8.0</td>\n",
              "      <td>14.0</td>\n",
              "      <td>Brazil</td>\n",
              "      <td>0.0</td>\n",
              "      <td>0.0</td>\n",
              "      <td>1993-08-08</td>\n",
              "      <td>-6.0</td>\n",
              "      <td>True</td>\n",
              "      <td>True</td>\n",
              "      <td>0.0</td>\n",
              "      <td>0</td>\n",
              "      <td>0</td>\n",
              "      <td>11.0</td>\n",
              "    </tr>\n",
              "    <tr>\n",
              "      <th>2</th>\n",
              "      <td>Ecuador</td>\n",
              "      <td>Venezuela</td>\n",
              "      <td>5</td>\n",
              "      <td>0</td>\n",
              "      <td>FIFA World Cup qualification</td>\n",
              "      <td>35.0</td>\n",
              "      <td>94.0</td>\n",
              "      <td>Ecuador</td>\n",
              "      <td>0.0</td>\n",
              "      <td>0.0</td>\n",
              "      <td>1993-08-08</td>\n",
              "      <td>-59.0</td>\n",
              "      <td>True</td>\n",
              "      <td>False</td>\n",
              "      <td>0.0</td>\n",
              "      <td>5</td>\n",
              "      <td>1</td>\n",
              "      <td>64.5</td>\n",
              "    </tr>\n",
              "    <tr>\n",
              "      <th>3</th>\n",
              "      <td>Guinea</td>\n",
              "      <td>Sierra Leone</td>\n",
              "      <td>1</td>\n",
              "      <td>0</td>\n",
              "      <td>Friendly</td>\n",
              "      <td>65.0</td>\n",
              "      <td>86.0</td>\n",
              "      <td>Guinea</td>\n",
              "      <td>0.0</td>\n",
              "      <td>0.0</td>\n",
              "      <td>1993-08-08</td>\n",
              "      <td>-21.0</td>\n",
              "      <td>True</td>\n",
              "      <td>True</td>\n",
              "      <td>0.0</td>\n",
              "      <td>1</td>\n",
              "      <td>1</td>\n",
              "      <td>75.5</td>\n",
              "    </tr>\n",
              "    <tr>\n",
              "      <th>4</th>\n",
              "      <td>Paraguay</td>\n",
              "      <td>Argentina</td>\n",
              "      <td>1</td>\n",
              "      <td>3</td>\n",
              "      <td>FIFA World Cup qualification</td>\n",
              "      <td>67.0</td>\n",
              "      <td>5.0</td>\n",
              "      <td>Paraguay</td>\n",
              "      <td>0.0</td>\n",
              "      <td>0.0</td>\n",
              "      <td>1993-08-08</td>\n",
              "      <td>62.0</td>\n",
              "      <td>True</td>\n",
              "      <td>False</td>\n",
              "      <td>0.0</td>\n",
              "      <td>-2</td>\n",
              "      <td>0</td>\n",
              "      <td>36.0</td>\n",
              "    </tr>\n",
              "  </tbody>\n",
              "</table>\n",
              "</div>"
            ],
            "text/plain": [
              "  home_team     away_team  home_score  ...  score_diff outcome  avg_rank\n",
              "0   Bolivia       Uruguay           3  ...           2       1      40.5\n",
              "1    Brazil        Mexico           1  ...           0       0      11.0\n",
              "2   Ecuador     Venezuela           5  ...           5       1      64.5\n",
              "3    Guinea  Sierra Leone           1  ...           1       1      75.5\n",
              "4  Paraguay     Argentina           1  ...          -2       0      36.0\n",
              "\n",
              "[5 rows x 18 columns]"
            ]
          },
          "metadata": {
            "tags": []
          },
          "execution_count": 21
        }
      ]
    },
    {
      "cell_type": "code",
      "metadata": {
        "id": "vmKJ8qnzy1-Q",
        "colab_type": "code",
        "colab": {}
      },
      "source": [
        "\"\"\"\n",
        "try :\n",
        "  rank diff\n",
        "  point_diff\n",
        "  is_home\n",
        "  is_friendly\n",
        "    don't use friendly match\n",
        "  swap home away // shouldn't effect\n",
        "  \n",
        "\n",
        "rankdiff, pointdiff, is friendly, ishome, avgrank?, \n",
        "\n",
        "\"\"\"\n",
        "# import libs\n",
        "from sklearn.tree import DecisionTreeClassifier\n",
        "from sklearn.linear_model import LogisticRegression\n",
        "from sklearn.svm import SVC\n",
        "from sklearn.ensemble import RandomForestClassifier\n",
        "from sklearn.model_selection import train_test_split\n",
        "from sklearn.metrics import classification_report, confusion_matrix, roc_curve,roc_auc_score\n",
        "\n",
        "# fixed seed \n",
        "seed = 1"
      ],
      "execution_count": 0,
      "outputs": []
    },
    {
      "cell_type": "code",
      "metadata": {
        "id": "0XsLa67p6vp-",
        "colab_type": "code",
        "colab": {}
      },
      "source": [
        "# basic \n",
        "features = ['avg_rank','rank_diff','is_home']\n",
        "\n",
        "# features = ['rank_home','rank_away','rank_diff','is_home','is_friendly']\n",
        "X_clf_train, X_clf_test, y_clf_train, y_clf_test =  train_test_split(data[features], data[['outcome']], test_size=0.2, random_state=seed)\n",
        "X_clf_train, X_clf_val, y_clf_train, y_clf_val =  train_test_split(X_clf_train, y_clf_train, test_size=0.2, random_state=seed)"
      ],
      "execution_count": 0,
      "outputs": []
    },
    {
      "cell_type": "code",
      "metadata": {
        "id": "yJDDTlDfy128",
        "colab_type": "code",
        "outputId": "6cc673cc-1deb-4c79-affb-f389e6ab43a3",
        "colab": {
          "base_uri": "https://localhost:8080/",
          "height": 538
        }
      },
      "source": [
        "dTree = DecisionTreeClassifier(random_state=seed, max_depth=6)\n",
        "dTree.fit(X_clf_train,y_clf_train)\n",
        "\n",
        "# train data set \n",
        "dTree_train_pred = dTree.predict(X_clf_train)\n",
        "print('============ Train data ==============')\n",
        "print(classification_report(y_clf_train,dTree_train_pred))\n",
        "\n",
        "# val data set \n",
        "dTree_val_pred = dTree.predict(X_clf_val)\n",
        "print('============ Validation data ==============')\n",
        "print(classification_report(y_clf_val,dTree_val_pred))\n",
        "\n",
        "# test set\n",
        "print('============ test data ==============')\n",
        "dTree_test_pred = dTree.predict(X_clf_test)\n",
        "print(classification_report(y_clf_test,dTree_test_pred))\n",
        "\n",
        "print(roc_auc_score(y_clf_test,dTree.predict_proba(X_clf_test)[:,1]))"
      ],
      "execution_count": 24,
      "outputs": [
        {
          "output_type": "stream",
          "text": [
            "============ Train data ==============\n",
            "              precision    recall  f1-score   support\n",
            "\n",
            "           0       0.70      0.69      0.70      5903\n",
            "           1       0.67      0.69      0.68      5449\n",
            "\n",
            "    accuracy                           0.69     11352\n",
            "   macro avg       0.69      0.69      0.69     11352\n",
            "weighted avg       0.69      0.69      0.69     11352\n",
            "\n",
            "============ Validation data ==============\n",
            "              precision    recall  f1-score   support\n",
            "\n",
            "           0       0.69      0.68      0.68      1453\n",
            "           1       0.67      0.67      0.67      1386\n",
            "\n",
            "    accuracy                           0.68      2839\n",
            "   macro avg       0.68      0.68      0.68      2839\n",
            "weighted avg       0.68      0.68      0.68      2839\n",
            "\n",
            "============ test data ==============\n",
            "              precision    recall  f1-score   support\n",
            "\n",
            "           0       0.68      0.69      0.68      1794\n",
            "           1       0.68      0.66      0.67      1754\n",
            "\n",
            "    accuracy                           0.68      3548\n",
            "   macro avg       0.68      0.68      0.68      3548\n",
            "weighted avg       0.68      0.68      0.68      3548\n",
            "\n",
            "0.7414922921838791\n"
          ],
          "name": "stdout"
        }
      ]
    },
    {
      "cell_type": "code",
      "metadata": {
        "id": "F60aANGPy1Om",
        "colab_type": "code",
        "outputId": "6d56344b-e24c-405e-8ae2-7991f8b8fc33",
        "colab": {
          "base_uri": "https://localhost:8080/",
          "height": 134
        }
      },
      "source": [
        "dTree.predict_proba(X_clf_test)"
      ],
      "execution_count": 25,
      "outputs": [
        {
          "output_type": "execute_result",
          "data": {
            "text/plain": [
              "array([[0.85      , 0.15      ],\n",
              "       [0.7122807 , 0.2877193 ],\n",
              "       [0.13868613, 0.86131387],\n",
              "       ...,\n",
              "       [0.41440378, 0.58559622],\n",
              "       [0.32142857, 0.67857143],\n",
              "       [0.60074627, 0.39925373]])"
            ]
          },
          "metadata": {
            "tags": []
          },
          "execution_count": 25
        }
      ]
    },
    {
      "cell_type": "code",
      "metadata": {
        "id": "q5-UKtcfxRnA",
        "colab_type": "code",
        "outputId": "ea209205-86b9-42c6-f3d2-fcb17c0a4097",
        "colab": {
          "base_uri": "https://localhost:8080/",
          "height": 574
        }
      },
      "source": [
        "svc = SVC(C=0.5, random_state=seed)\n",
        "svc.fit(X_clf_train,y_clf_train)\n",
        "\n",
        "# train data set \n",
        "svc_train_pred = svc.predict(X_clf_train)\n",
        "print('============ Train data ==============')\n",
        "print(classification_report(y_clf_train,svc_train_pred))\n",
        "\n",
        "# val data set \n",
        "svc_val_pred = svc.predict(X_clf_val)\n",
        "print('============ Validation data ==============')\n",
        "print(classification_report(y_clf_val,svc_val_pred))\n",
        "\n",
        "# test set\n",
        "print('============ test data ==============')\n",
        "svc_test_pred = svc.predict(X_clf_test)\n",
        "print(classification_report(y_clf_test,svc_test_pred))"
      ],
      "execution_count": 26,
      "outputs": [
        {
          "output_type": "stream",
          "text": [
            "/usr/local/lib/python3.6/dist-packages/sklearn/utils/validation.py:760: DataConversionWarning: A column-vector y was passed when a 1d array was expected. Please change the shape of y to (n_samples, ), for example using ravel().\n",
            "  y = column_or_1d(y, warn=True)\n"
          ],
          "name": "stderr"
        },
        {
          "output_type": "stream",
          "text": [
            "============ Train data ==============\n",
            "              precision    recall  f1-score   support\n",
            "\n",
            "           0       0.68      0.72      0.70      5903\n",
            "           1       0.68      0.63      0.65      5449\n",
            "\n",
            "    accuracy                           0.68     11352\n",
            "   macro avg       0.68      0.68      0.68     11352\n",
            "weighted avg       0.68      0.68      0.68     11352\n",
            "\n",
            "============ Validation data ==============\n",
            "              precision    recall  f1-score   support\n",
            "\n",
            "           0       0.67      0.72      0.69      1453\n",
            "           1       0.68      0.63      0.65      1386\n",
            "\n",
            "    accuracy                           0.67      2839\n",
            "   macro avg       0.67      0.67      0.67      2839\n",
            "weighted avg       0.67      0.67      0.67      2839\n",
            "\n",
            "============ test data ==============\n",
            "              precision    recall  f1-score   support\n",
            "\n",
            "           0       0.67      0.74      0.70      1794\n",
            "           1       0.70      0.63      0.66      1754\n",
            "\n",
            "    accuracy                           0.68      3548\n",
            "   macro avg       0.68      0.68      0.68      3548\n",
            "weighted avg       0.68      0.68      0.68      3548\n",
            "\n"
          ],
          "name": "stdout"
        }
      ]
    },
    {
      "cell_type": "code",
      "metadata": {
        "id": "JIcmZD8mxRh6",
        "colab_type": "code",
        "colab": {}
      },
      "source": [
        ""
      ],
      "execution_count": 0,
      "outputs": []
    },
    {
      "cell_type": "markdown",
      "metadata": {
        "id": "djHrTWg459JA",
        "colab_type": "text"
      },
      "source": [
        "### add is friendly\n"
      ]
    },
    {
      "cell_type": "markdown",
      "metadata": {
        "id": "RBGDqUOy6ZRZ",
        "colab_type": "text"
      },
      "source": [
        "result : no significant change\n"
      ]
    },
    {
      "cell_type": "code",
      "metadata": {
        "id": "Hs6zDszKxRcD",
        "colab_type": "code",
        "colab": {}
      },
      "source": [
        "# add is friendly\n",
        "features = ['avg_rank','rank_diff','is_home','is_friendly']\n",
        "X_clf_train, X_clf_test, y_clf_train, y_clf_test =  train_test_split(data[features], data[['outcome']], test_size=0.2, random_state=seed)\n",
        "X_clf_train, X_clf_val, y_clf_train, y_clf_val =  train_test_split(X_clf_train, y_clf_train, test_size=0.2, random_state=seed)"
      ],
      "execution_count": 0,
      "outputs": []
    },
    {
      "cell_type": "code",
      "metadata": {
        "id": "tJY0VP0ixRUw",
        "colab_type": "code",
        "outputId": "f7be2479-1af6-4370-e7a3-aae71bec5e32",
        "colab": {
          "base_uri": "https://localhost:8080/",
          "height": 538
        }
      },
      "source": [
        "dTree2 = DecisionTreeClassifier(random_state=seed, max_depth=6)\n",
        "dTree2.fit(X_clf_train,y_clf_train)\n",
        "\n",
        "# train data set \n",
        "dTree2_train_pred = dTree2.predict(X_clf_train)\n",
        "print('============ Train data ==============')\n",
        "print(classification_report(y_clf_train,dTree2_train_pred))\n",
        "\n",
        "# val data set \n",
        "dTree2_val_pred = dTree2.predict(X_clf_val)\n",
        "print('============ Validation data ==============')\n",
        "print(classification_report(y_clf_val,dTree2_val_pred))\n",
        "\n",
        "# test set\n",
        "print('============ test data ==============')\n",
        "dTree2_test_pred = dTree2.predict(X_clf_test)\n",
        "print(classification_report(y_clf_test,dTree2_test_pred))\n",
        "\n",
        "print(roc_auc_score(y_clf_test,dTree2.predict_proba(X_clf_test)[:,1]))"
      ],
      "execution_count": 28,
      "outputs": [
        {
          "output_type": "stream",
          "text": [
            "============ Train data ==============\n",
            "              precision    recall  f1-score   support\n",
            "\n",
            "           0       0.70      0.69      0.70      5903\n",
            "           1       0.67      0.69      0.68      5449\n",
            "\n",
            "    accuracy                           0.69     11352\n",
            "   macro avg       0.69      0.69      0.69     11352\n",
            "weighted avg       0.69      0.69      0.69     11352\n",
            "\n",
            "============ Validation data ==============\n",
            "              precision    recall  f1-score   support\n",
            "\n",
            "           0       0.69      0.68      0.68      1453\n",
            "           1       0.67      0.67      0.67      1386\n",
            "\n",
            "    accuracy                           0.68      2839\n",
            "   macro avg       0.68      0.68      0.68      2839\n",
            "weighted avg       0.68      0.68      0.68      2839\n",
            "\n",
            "============ test data ==============\n",
            "              precision    recall  f1-score   support\n",
            "\n",
            "           0       0.68      0.69      0.68      1794\n",
            "           1       0.68      0.66      0.67      1754\n",
            "\n",
            "    accuracy                           0.68      3548\n",
            "   macro avg       0.68      0.68      0.68      3548\n",
            "weighted avg       0.68      0.68      0.68      3548\n",
            "\n",
            "0.7430849251718321\n"
          ],
          "name": "stdout"
        }
      ]
    },
    {
      "cell_type": "markdown",
      "metadata": {
        "id": "rd_ZrF0G6r3Q",
        "colab_type": "text"
      },
      "source": [
        "### drop friendly match from data\n"
      ]
    },
    {
      "cell_type": "markdown",
      "metadata": {
        "id": "n0w9CUUL8Qye",
        "colab_type": "text"
      },
      "source": [
        "result : significant improve\n"
      ]
    },
    {
      "cell_type": "code",
      "metadata": {
        "id": "SIpe6ow-xRKs",
        "colab_type": "code",
        "outputId": "609041dc-be79-4d05-af58-5ba05d8c6b60",
        "colab": {
          "base_uri": "https://localhost:8080/",
          "height": 403
        }
      },
      "source": [
        "df = data[data['is_friendly']!=True]\n",
        "df.info()\n",
        "# data decreased for about 6k entries"
      ],
      "execution_count": 29,
      "outputs": [
        {
          "output_type": "stream",
          "text": [
            "<class 'pandas.core.frame.DataFrame'>\n",
            "Int64Index: 11022 entries, 0 to 17738\n",
            "Data columns (total 18 columns):\n",
            "home_team            11022 non-null object\n",
            "away_team            11022 non-null object\n",
            "home_score           11022 non-null int64\n",
            "away_score           11022 non-null int64\n",
            "tournament           11022 non-null object\n",
            "rank_home            11022 non-null float64\n",
            "rank_away            11022 non-null float64\n",
            "country              11022 non-null object\n",
            "total_points_home    11022 non-null float64\n",
            "total_points_away    11022 non-null float64\n",
            "rank_date_home       11022 non-null datetime64[ns]\n",
            "rank_diff            11022 non-null float64\n",
            "is_home              11022 non-null bool\n",
            "is_friendly          11022 non-null bool\n",
            "points_diff          11022 non-null float64\n",
            "score_diff           11022 non-null int64\n",
            "outcome              11022 non-null int64\n",
            "avg_rank             11022 non-null float64\n",
            "dtypes: bool(2), datetime64[ns](1), float64(7), int64(4), object(4)\n",
            "memory usage: 1.5+ MB\n"
          ],
          "name": "stdout"
        }
      ]
    },
    {
      "cell_type": "code",
      "metadata": {
        "id": "Th7VYynL7J-R",
        "colab_type": "code",
        "colab": {}
      },
      "source": [
        "# drop friendly match\n",
        "features = ['avg_rank','rank_diff','is_home']\n",
        "\n",
        "X_clf_train, X_clf_test, y_clf_train, y_clf_test =  train_test_split(df[features], df[['outcome']], test_size=0.2, random_state=seed)\n",
        "X_clf_train, X_clf_val, y_clf_train, y_clf_val =  train_test_split(X_clf_train, y_clf_train, test_size=0.2, random_state=seed)"
      ],
      "execution_count": 0,
      "outputs": []
    },
    {
      "cell_type": "code",
      "metadata": {
        "id": "rW35xybA7J6Q",
        "colab_type": "code",
        "outputId": "5cdd3aff-a16e-4a8e-d230-9e68c1af2238",
        "colab": {
          "base_uri": "https://localhost:8080/",
          "height": 538
        }
      },
      "source": [
        "dTree3 = DecisionTreeClassifier(random_state=seed, max_depth=5)\n",
        "dTree3.fit(X_clf_train,y_clf_train)\n",
        "\n",
        "# train data set \n",
        "dTree3_train_pred = dTree3.predict(X_clf_train)\n",
        "print('============ Train data ==============')\n",
        "print(classification_report(y_clf_train,dTree3_train_pred))\n",
        "\n",
        "# val data set \n",
        "dTree3_val_pred = dTree3.predict(X_clf_val)\n",
        "print('============ Validation data ==============')\n",
        "print(classification_report(y_clf_val,dTree3_val_pred))\n",
        "\n",
        "# test set\n",
        "print('============ test data ==============')\n",
        "dTree3_test_pred = dTree3.predict(X_clf_test)\n",
        "print(classification_report(y_clf_test,dTree3_test_pred))\n",
        "\n",
        "print(roc_auc_score(y_clf_test,dTree3.predict_proba(X_clf_test)[:,1]))"
      ],
      "execution_count": 31,
      "outputs": [
        {
          "output_type": "stream",
          "text": [
            "============ Train data ==============\n",
            "              precision    recall  f1-score   support\n",
            "\n",
            "           0       0.71      0.73      0.72      3564\n",
            "           1       0.71      0.69      0.70      3489\n",
            "\n",
            "    accuracy                           0.71      7053\n",
            "   macro avg       0.71      0.71      0.71      7053\n",
            "weighted avg       0.71      0.71      0.71      7053\n",
            "\n",
            "============ Validation data ==============\n",
            "              precision    recall  f1-score   support\n",
            "\n",
            "           0       0.71      0.71      0.71       895\n",
            "           1       0.70      0.71      0.70       869\n",
            "\n",
            "    accuracy                           0.71      1764\n",
            "   macro avg       0.71      0.71      0.71      1764\n",
            "weighted avg       0.71      0.71      0.71      1764\n",
            "\n",
            "============ test data ==============\n",
            "              precision    recall  f1-score   support\n",
            "\n",
            "           0       0.72      0.74      0.73      1151\n",
            "           1       0.71      0.69      0.70      1054\n",
            "\n",
            "    accuracy                           0.71      2205\n",
            "   macro avg       0.71      0.71      0.71      2205\n",
            "weighted avg       0.71      0.71      0.71      2205\n",
            "\n",
            "0.7832488703000609\n"
          ],
          "name": "stdout"
        }
      ]
    },
    {
      "cell_type": "code",
      "metadata": {
        "id": "_kEbScVQOa3o",
        "colab_type": "code",
        "outputId": "639b8266-8977-4e7c-e8dc-021193fcc3a5",
        "colab": {
          "base_uri": "https://localhost:8080/",
          "height": 574
        }
      },
      "source": [
        "randF = RandomForestClassifier(n_estimators=300,max_depth=5,random_state=seed)\n",
        "randF.fit(X_clf_train,y_clf_train)\n",
        "\n",
        "train_pred = randF.predict(X_clf_train)\n",
        "print(classification_report(y_clf_train,train_pred))\n",
        "\n",
        "print(\"------------------------------------\")\n",
        "val_pred = randF.predict(X_clf_val)\n",
        "print(classification_report(y_clf_val,val_pred))\n",
        "print(\"------------------------------------\")\n",
        "test_pred = randF.predict(X_clf_test)\n",
        "print(classification_report(y_clf_test,test_pred))\n",
        "\n",
        "print(roc_auc_score(y_clf_test,randF.predict_proba(X_clf_test)[:,1]))"
      ],
      "execution_count": 32,
      "outputs": [
        {
          "output_type": "stream",
          "text": [
            "/usr/local/lib/python3.6/dist-packages/ipykernel_launcher.py:2: DataConversionWarning: A column-vector y was passed when a 1d array was expected. Please change the shape of y to (n_samples,), for example using ravel().\n",
            "  \n"
          ],
          "name": "stderr"
        },
        {
          "output_type": "stream",
          "text": [
            "              precision    recall  f1-score   support\n",
            "\n",
            "           0       0.72      0.72      0.72      3564\n",
            "           1       0.71      0.71      0.71      3489\n",
            "\n",
            "    accuracy                           0.72      7053\n",
            "   macro avg       0.72      0.72      0.72      7053\n",
            "weighted avg       0.72      0.72      0.72      7053\n",
            "\n",
            "------------------------------------\n",
            "              precision    recall  f1-score   support\n",
            "\n",
            "           0       0.71      0.70      0.71       895\n",
            "           1       0.70      0.71      0.70       869\n",
            "\n",
            "    accuracy                           0.71      1764\n",
            "   macro avg       0.71      0.71      0.71      1764\n",
            "weighted avg       0.71      0.71      0.71      1764\n",
            "\n",
            "------------------------------------\n",
            "              precision    recall  f1-score   support\n",
            "\n",
            "           0       0.72      0.72      0.72      1151\n",
            "           1       0.70      0.70      0.70      1054\n",
            "\n",
            "    accuracy                           0.71      2205\n",
            "   macro avg       0.71      0.71      0.71      2205\n",
            "weighted avg       0.71      0.71      0.71      2205\n",
            "\n",
            "0.7898399543668817\n"
          ],
          "name": "stdout"
        }
      ]
    },
    {
      "cell_type": "markdown",
      "metadata": {
        "id": "zOtjeGt-AM24",
        "colab_type": "text"
      },
      "source": [
        "### add points difference"
      ]
    },
    {
      "cell_type": "markdown",
      "metadata": {
        "id": "V5EFyKR0BuZ_",
        "colab_type": "text"
      },
      "source": [
        "result : might help ? may be \n"
      ]
    },
    {
      "cell_type": "code",
      "metadata": {
        "id": "G1UGdam37J1A",
        "colab_type": "code",
        "colab": {}
      },
      "source": [
        "# add points diff\n",
        "features = ['avg_rank','rank_diff','is_home','points_diff']\n",
        "X_clf_train, X_clf_test, y_clf_train, y_clf_test =  train_test_split(data[features], data[['outcome']], test_size=0.2, random_state=seed)\n",
        "X_clf_train, X_clf_val, y_clf_train, y_clf_val =  train_test_split(X_clf_train, y_clf_train, test_size=0.2, random_state=seed)"
      ],
      "execution_count": 0,
      "outputs": []
    },
    {
      "cell_type": "code",
      "metadata": {
        "id": "uIigITWV7JvH",
        "colab_type": "code",
        "outputId": "f7519bb4-4bac-4be1-e10d-a23d27a966d1",
        "colab": {
          "base_uri": "https://localhost:8080/",
          "height": 538
        }
      },
      "source": [
        "dTree4 = DecisionTreeClassifier(random_state=seed, max_depth=6)\n",
        "dTree4.fit(X_clf_train,y_clf_train)\n",
        "\n",
        "# train data set \n",
        "dTree4_train_pred = dTree4.predict(X_clf_train)\n",
        "print('============ Train data ==============')\n",
        "print(classification_report(y_clf_train,dTree4_train_pred))\n",
        "\n",
        "# val data set \n",
        "dTree4_val_pred = dTree4.predict(X_clf_val)\n",
        "print('============ Validation data ==============')\n",
        "print(classification_report(y_clf_val,dTree4_val_pred))\n",
        "\n",
        "# test set\n",
        "print('============ test data ==============')\n",
        "dTree4_test_pred = dTree4.predict(X_clf_test)\n",
        "print(classification_report(y_clf_test,dTree4_test_pred))\n",
        "\n",
        "print(roc_auc_score(y_clf_test,dTree4.predict_proba(X_clf_test)[:,1]))"
      ],
      "execution_count": 34,
      "outputs": [
        {
          "output_type": "stream",
          "text": [
            "============ Train data ==============\n",
            "              precision    recall  f1-score   support\n",
            "\n",
            "           0       0.70      0.71      0.71      5903\n",
            "           1       0.68      0.67      0.68      5449\n",
            "\n",
            "    accuracy                           0.69     11352\n",
            "   macro avg       0.69      0.69      0.69     11352\n",
            "weighted avg       0.69      0.69      0.69     11352\n",
            "\n",
            "============ Validation data ==============\n",
            "              precision    recall  f1-score   support\n",
            "\n",
            "           0       0.67      0.70      0.68      1453\n",
            "           1       0.67      0.65      0.66      1386\n",
            "\n",
            "    accuracy                           0.67      2839\n",
            "   macro avg       0.67      0.67      0.67      2839\n",
            "weighted avg       0.67      0.67      0.67      2839\n",
            "\n",
            "============ test data ==============\n",
            "              precision    recall  f1-score   support\n",
            "\n",
            "           0       0.67      0.71      0.69      1794\n",
            "           1       0.69      0.65      0.67      1754\n",
            "\n",
            "    accuracy                           0.68      3548\n",
            "   macro avg       0.68      0.68      0.68      3548\n",
            "weighted avg       0.68      0.68      0.68      3548\n",
            "\n",
            "0.7452154273271223\n"
          ],
          "name": "stdout"
        }
      ]
    },
    {
      "cell_type": "markdown",
      "metadata": {
        "id": "IOigCufF2q4T",
        "colab_type": "text"
      },
      "source": [
        "### Try using only data with point"
      ]
    },
    {
      "cell_type": "markdown",
      "metadata": {
        "id": "76ILJvIN3u1O",
        "colab_type": "text"
      },
      "source": [
        "mking is realy low data \n",
        "shouldn't do it \n"
      ]
    },
    {
      "cell_type": "code",
      "metadata": {
        "id": "zJjdpWaL7JmS",
        "colab_type": "code",
        "colab": {}
      },
      "source": [
        "df = data[(data['rank_date_home'] > \"2011-08-24\") & (data['is_friendly'] != True)]"
      ],
      "execution_count": 0,
      "outputs": []
    },
    {
      "cell_type": "code",
      "metadata": {
        "id": "rALKAmXZ4DJJ",
        "colab_type": "code",
        "outputId": "91a941a2-2a5a-4db6-ad69-095aee34ab8e",
        "colab": {
          "base_uri": "https://localhost:8080/",
          "height": 403
        }
      },
      "source": [
        "df.info()"
      ],
      "execution_count": 36,
      "outputs": [
        {
          "output_type": "stream",
          "text": [
            "<class 'pandas.core.frame.DataFrame'>\n",
            "Int64Index: 3312 entries, 12462 to 17738\n",
            "Data columns (total 18 columns):\n",
            "home_team            3312 non-null object\n",
            "away_team            3312 non-null object\n",
            "home_score           3312 non-null int64\n",
            "away_score           3312 non-null int64\n",
            "tournament           3312 non-null object\n",
            "rank_home            3312 non-null float64\n",
            "rank_away            3312 non-null float64\n",
            "country              3312 non-null object\n",
            "total_points_home    3312 non-null float64\n",
            "total_points_away    3312 non-null float64\n",
            "rank_date_home       3312 non-null datetime64[ns]\n",
            "rank_diff            3312 non-null float64\n",
            "is_home              3312 non-null bool\n",
            "is_friendly          3312 non-null bool\n",
            "points_diff          3312 non-null float64\n",
            "score_diff           3312 non-null int64\n",
            "outcome              3312 non-null int64\n",
            "avg_rank             3312 non-null float64\n",
            "dtypes: bool(2), datetime64[ns](1), float64(7), int64(4), object(4)\n",
            "memory usage: 446.3+ KB\n"
          ],
          "name": "stdout"
        }
      ]
    },
    {
      "cell_type": "code",
      "metadata": {
        "id": "uKLGl6b730Bw",
        "colab_type": "code",
        "colab": {}
      },
      "source": [
        "# add points diff\n",
        "features = ['avg_rank','rank_diff','is_home','points_diff']\n",
        "X_clf_train, X_clf_test, y_clf_train, y_clf_test =  train_test_split(df[features], df[['outcome']], test_size=0.2, random_state=seed)\n",
        "X_clf_train, X_clf_val, y_clf_train, y_clf_val =  train_test_split(X_clf_train, y_clf_train, test_size=0.2, random_state=seed)"
      ],
      "execution_count": 0,
      "outputs": []
    },
    {
      "cell_type": "code",
      "metadata": {
        "id": "2E4CdQMR4yb9",
        "colab_type": "code",
        "outputId": "cee3fbdd-ed60-4e86-863a-e39aca269214",
        "colab": {
          "base_uri": "https://localhost:8080/",
          "height": 538
        }
      },
      "source": [
        "dTree5 = DecisionTreeClassifier(random_state=seed, max_depth=20)\n",
        "dTree5.fit(X_clf_train,y_clf_train)\n",
        "\n",
        "# train data set \n",
        "dTree5_train_pred = dTree5.predict(X_clf_train)\n",
        "print('============ Train data ==============')\n",
        "print(classification_report(y_clf_train,dTree5_train_pred))\n",
        "\n",
        "# val data set \n",
        "dTree5_val_pred = dTree5.predict(X_clf_val)\n",
        "print('============ Validation data ==============')\n",
        "print(classification_report(y_clf_val,dTree5_val_pred))\n",
        "\n",
        "# test set\n",
        "print('============ test data ==============')\n",
        "dTree5_test_pred = dTree5.predict(X_clf_test)\n",
        "print(classification_report(y_clf_test,dTree5_test_pred))\n",
        "\n",
        "print(roc_auc_score(y_clf_test,dTree5.predict_proba(X_clf_test)[:,1]))"
      ],
      "execution_count": 38,
      "outputs": [
        {
          "output_type": "stream",
          "text": [
            "============ Train data ==============\n",
            "              precision    recall  f1-score   support\n",
            "\n",
            "           0       0.97      0.98      0.97      1091\n",
            "           1       0.98      0.97      0.97      1028\n",
            "\n",
            "    accuracy                           0.97      2119\n",
            "   macro avg       0.97      0.97      0.97      2119\n",
            "weighted avg       0.97      0.97      0.97      2119\n",
            "\n",
            "============ Validation data ==============\n",
            "              precision    recall  f1-score   support\n",
            "\n",
            "           0       0.68      0.62      0.65       305\n",
            "           1       0.54      0.60      0.57       225\n",
            "\n",
            "    accuracy                           0.61       530\n",
            "   macro avg       0.61      0.61      0.61       530\n",
            "weighted avg       0.62      0.61      0.62       530\n",
            "\n",
            "============ test data ==============\n",
            "              precision    recall  f1-score   support\n",
            "\n",
            "           0       0.60      0.58      0.59       345\n",
            "           1       0.56      0.58      0.57       318\n",
            "\n",
            "    accuracy                           0.58       663\n",
            "   macro avg       0.58      0.58      0.58       663\n",
            "weighted avg       0.58      0.58      0.58       663\n",
            "\n",
            "0.5782563120955244\n"
          ],
          "name": "stdout"
        }
      ]
    },
    {
      "cell_type": "code",
      "metadata": {
        "id": "ktopu-Ui7zEE",
        "colab_type": "code",
        "outputId": "4daf1d89-ed0a-483c-fc05-1bb6a1da5d70",
        "colab": {
          "base_uri": "https://localhost:8080/",
          "height": 574
        }
      },
      "source": [
        "svc = SVC(C=0.4, random_state=seed)\n",
        "svc.fit(X_clf_train,y_clf_train)\n",
        "\n",
        "# train data set \n",
        "svc_train_pred = svc.predict(X_clf_train)\n",
        "print('============ Train data ==============')\n",
        "print(classification_report(y_clf_train,svc_train_pred))\n",
        "\n",
        "# val data set \n",
        "svc_val_pred = svc.predict(X_clf_val)\n",
        "print('============ Validation data ==============')\n",
        "print(classification_report(y_clf_val,svc_val_pred))\n",
        "\n",
        "# test set\n",
        "print('============ test data ==============')\n",
        "svc_test_pred = svc.predict(X_clf_test)\n",
        "print(classification_report(y_clf_test,svc_test_pred))"
      ],
      "execution_count": 39,
      "outputs": [
        {
          "output_type": "stream",
          "text": [
            "/usr/local/lib/python3.6/dist-packages/sklearn/utils/validation.py:760: DataConversionWarning: A column-vector y was passed when a 1d array was expected. Please change the shape of y to (n_samples, ), for example using ravel().\n",
            "  y = column_or_1d(y, warn=True)\n"
          ],
          "name": "stderr"
        },
        {
          "output_type": "stream",
          "text": [
            "============ Train data ==============\n",
            "              precision    recall  f1-score   support\n",
            "\n",
            "           0       0.72      0.68      0.70      1091\n",
            "           1       0.68      0.72      0.70      1028\n",
            "\n",
            "    accuracy                           0.70      2119\n",
            "   macro avg       0.70      0.70      0.70      2119\n",
            "weighted avg       0.70      0.70      0.70      2119\n",
            "\n",
            "============ Validation data ==============\n",
            "              precision    recall  f1-score   support\n",
            "\n",
            "           0       0.78      0.64      0.70       305\n",
            "           1       0.61      0.76      0.68       225\n",
            "\n",
            "    accuracy                           0.69       530\n",
            "   macro avg       0.70      0.70      0.69       530\n",
            "weighted avg       0.71      0.69      0.69       530\n",
            "\n",
            "============ test data ==============\n",
            "              precision    recall  f1-score   support\n",
            "\n",
            "           0       0.71      0.63      0.67       345\n",
            "           1       0.64      0.72      0.68       318\n",
            "\n",
            "    accuracy                           0.67       663\n",
            "   macro avg       0.68      0.68      0.67       663\n",
            "weighted avg       0.68      0.67      0.67       663\n",
            "\n"
          ],
          "name": "stdout"
        }
      ]
    },
    {
      "cell_type": "code",
      "metadata": {
        "id": "hrLEvjKFWa3_",
        "colab_type": "code",
        "outputId": "71393051-bd20-47f2-d4cc-5759e351de31",
        "colab": {
          "base_uri": "https://localhost:8080/",
          "height": 34
        }
      },
      "source": [
        "# rank diff is expressing points diff\n",
        "df['rank_diff'].corr(df['points_diff'])"
      ],
      "execution_count": 40,
      "outputs": [
        {
          "output_type": "execute_result",
          "data": {
            "text/plain": [
              "-0.8970020701370831"
            ]
          },
          "metadata": {
            "tags": []
          },
          "execution_count": 40
        }
      ]
    },
    {
      "cell_type": "markdown",
      "metadata": {
        "id": "hetosWfpZEYp",
        "colab_type": "text"
      },
      "source": [
        "## Try difference model"
      ]
    },
    {
      "cell_type": "markdown",
      "metadata": {
        "id": "D-pmlmLE2H3N",
        "colab_type": "text"
      },
      "source": [
        "Traditional ML techniques that I use:\n",
        "1. DecisionTree\n",
        "2. SVC\n",
        "3. RandomForest\n",
        "4. Logistic regression\n",
        "\n",
        "SVC Sucks at this\n"
      ]
    },
    {
      "cell_type": "code",
      "metadata": {
        "id": "ousVhmMNZJx0",
        "colab_type": "code",
        "colab": {}
      },
      "source": [
        "from sklearn.model_selection import GridSearchCV"
      ],
      "execution_count": 0,
      "outputs": []
    },
    {
      "cell_type": "code",
      "metadata": {
        "id": "ChX0h71Cfy_K",
        "colab_type": "code",
        "colab": {}
      },
      "source": [
        "seed = 1\n",
        "\n",
        "dt = data[data['is_friendly'] != True]\n",
        "\n",
        "features = ['avg_rank','rank_diff','is_home']\n",
        "\n",
        "X_train, X_test, y_train, y_test =  train_test_split(dt[features], dt[['outcome']], test_size=0.2, random_state=seed)\n",
        "X_train, X_val, y_train, y_val =  train_test_split(X_train, y_train, test_size=0.2, random_state=seed)"
      ],
      "execution_count": 0,
      "outputs": []
    },
    {
      "cell_type": "code",
      "metadata": {
        "id": "kPhgH_71ZJs-",
        "colab_type": "code",
        "colab": {}
      },
      "source": [
        "# log n_estimators=300,max_depth=5,random_state=seed\n",
        "seed = 1\n",
        "params = {\n",
        "    'LogisticRegression' : {'C':[1,0.5,0.1,1e-3,1e-5],'random_state':[seed]},\n",
        "    'RandomForest': {'n_estimators':[100,300,500], 'max_depth':[3,4,5,6,7],'random_state':[seed]},\n",
        "    'DecisionTree': {'max_depth':[3,4,5,6,7],'random_state':[seed]},\n",
        "    'SVC': {'C':[1,0.5,0.1],'random_state':[seed]}\n",
        "}\n",
        "\n",
        "models = {\n",
        "    'LogisticRegression' : LogisticRegression(),\n",
        "    'RandomForest': RandomForestClassifier(),\n",
        "    'DecisionTree': DecisionTreeClassifier(),\n",
        "    'SVC': SVC(probability=True)\n",
        "}"
      ],
      "execution_count": 0,
      "outputs": []
    },
    {
      "cell_type": "code",
      "metadata": {
        "id": "9IBcavQiZJqK",
        "colab_type": "code",
        "outputId": "f472b97f-4d6f-4cf7-81e4-e4cd46c16492",
        "colab": {
          "base_uri": "https://localhost:8080/",
          "height": 1000
        }
      },
      "source": [
        "clf = dict()\n",
        "for model_name in models.keys():\n",
        "  clf[model_name] = GridSearchCV(estimator=models[model_name],param_grid=params[model_name],cv=5)\n",
        "\n",
        "for (_,m) in clf.items():\n",
        "  m.fit(X_train,y_train)"
      ],
      "execution_count": 44,
      "outputs": [
        {
          "output_type": "stream",
          "text": [
            "/usr/local/lib/python3.6/dist-packages/sklearn/utils/validation.py:760: DataConversionWarning: A column-vector y was passed when a 1d array was expected. Please change the shape of y to (n_samples, ), for example using ravel().\n",
            "  y = column_or_1d(y, warn=True)\n",
            "/usr/local/lib/python3.6/dist-packages/sklearn/utils/validation.py:760: DataConversionWarning: A column-vector y was passed when a 1d array was expected. Please change the shape of y to (n_samples, ), for example using ravel().\n",
            "  y = column_or_1d(y, warn=True)\n",
            "/usr/local/lib/python3.6/dist-packages/sklearn/utils/validation.py:760: DataConversionWarning: A column-vector y was passed when a 1d array was expected. Please change the shape of y to (n_samples, ), for example using ravel().\n",
            "  y = column_or_1d(y, warn=True)\n",
            "/usr/local/lib/python3.6/dist-packages/sklearn/utils/validation.py:760: DataConversionWarning: A column-vector y was passed when a 1d array was expected. Please change the shape of y to (n_samples, ), for example using ravel().\n",
            "  y = column_or_1d(y, warn=True)\n",
            "/usr/local/lib/python3.6/dist-packages/sklearn/utils/validation.py:760: DataConversionWarning: A column-vector y was passed when a 1d array was expected. Please change the shape of y to (n_samples, ), for example using ravel().\n",
            "  y = column_or_1d(y, warn=True)\n",
            "/usr/local/lib/python3.6/dist-packages/sklearn/utils/validation.py:760: DataConversionWarning: A column-vector y was passed when a 1d array was expected. Please change the shape of y to (n_samples, ), for example using ravel().\n",
            "  y = column_or_1d(y, warn=True)\n",
            "/usr/local/lib/python3.6/dist-packages/sklearn/utils/validation.py:760: DataConversionWarning: A column-vector y was passed when a 1d array was expected. Please change the shape of y to (n_samples, ), for example using ravel().\n",
            "  y = column_or_1d(y, warn=True)\n",
            "/usr/local/lib/python3.6/dist-packages/sklearn/utils/validation.py:760: DataConversionWarning: A column-vector y was passed when a 1d array was expected. Please change the shape of y to (n_samples, ), for example using ravel().\n",
            "  y = column_or_1d(y, warn=True)\n",
            "/usr/local/lib/python3.6/dist-packages/sklearn/utils/validation.py:760: DataConversionWarning: A column-vector y was passed when a 1d array was expected. Please change the shape of y to (n_samples, ), for example using ravel().\n",
            "  y = column_or_1d(y, warn=True)\n",
            "/usr/local/lib/python3.6/dist-packages/sklearn/utils/validation.py:760: DataConversionWarning: A column-vector y was passed when a 1d array was expected. Please change the shape of y to (n_samples, ), for example using ravel().\n",
            "  y = column_or_1d(y, warn=True)\n",
            "/usr/local/lib/python3.6/dist-packages/sklearn/utils/validation.py:760: DataConversionWarning: A column-vector y was passed when a 1d array was expected. Please change the shape of y to (n_samples, ), for example using ravel().\n",
            "  y = column_or_1d(y, warn=True)\n",
            "/usr/local/lib/python3.6/dist-packages/sklearn/utils/validation.py:760: DataConversionWarning: A column-vector y was passed when a 1d array was expected. Please change the shape of y to (n_samples, ), for example using ravel().\n",
            "  y = column_or_1d(y, warn=True)\n",
            "/usr/local/lib/python3.6/dist-packages/sklearn/utils/validation.py:760: DataConversionWarning: A column-vector y was passed when a 1d array was expected. Please change the shape of y to (n_samples, ), for example using ravel().\n",
            "  y = column_or_1d(y, warn=True)\n",
            "/usr/local/lib/python3.6/dist-packages/sklearn/utils/validation.py:760: DataConversionWarning: A column-vector y was passed when a 1d array was expected. Please change the shape of y to (n_samples, ), for example using ravel().\n",
            "  y = column_or_1d(y, warn=True)\n",
            "/usr/local/lib/python3.6/dist-packages/sklearn/utils/validation.py:760: DataConversionWarning: A column-vector y was passed when a 1d array was expected. Please change the shape of y to (n_samples, ), for example using ravel().\n",
            "  y = column_or_1d(y, warn=True)\n",
            "/usr/local/lib/python3.6/dist-packages/sklearn/utils/validation.py:760: DataConversionWarning: A column-vector y was passed when a 1d array was expected. Please change the shape of y to (n_samples, ), for example using ravel().\n",
            "  y = column_or_1d(y, warn=True)\n",
            "/usr/local/lib/python3.6/dist-packages/sklearn/utils/validation.py:760: DataConversionWarning: A column-vector y was passed when a 1d array was expected. Please change the shape of y to (n_samples, ), for example using ravel().\n",
            "  y = column_or_1d(y, warn=True)\n",
            "/usr/local/lib/python3.6/dist-packages/sklearn/utils/validation.py:760: DataConversionWarning: A column-vector y was passed when a 1d array was expected. Please change the shape of y to (n_samples, ), for example using ravel().\n",
            "  y = column_or_1d(y, warn=True)\n",
            "/usr/local/lib/python3.6/dist-packages/sklearn/utils/validation.py:760: DataConversionWarning: A column-vector y was passed when a 1d array was expected. Please change the shape of y to (n_samples, ), for example using ravel().\n",
            "  y = column_or_1d(y, warn=True)\n",
            "/usr/local/lib/python3.6/dist-packages/sklearn/utils/validation.py:760: DataConversionWarning: A column-vector y was passed when a 1d array was expected. Please change the shape of y to (n_samples, ), for example using ravel().\n",
            "  y = column_or_1d(y, warn=True)\n",
            "/usr/local/lib/python3.6/dist-packages/sklearn/utils/validation.py:760: DataConversionWarning: A column-vector y was passed when a 1d array was expected. Please change the shape of y to (n_samples, ), for example using ravel().\n",
            "  y = column_or_1d(y, warn=True)\n",
            "/usr/local/lib/python3.6/dist-packages/sklearn/utils/validation.py:760: DataConversionWarning: A column-vector y was passed when a 1d array was expected. Please change the shape of y to (n_samples, ), for example using ravel().\n",
            "  y = column_or_1d(y, warn=True)\n",
            "/usr/local/lib/python3.6/dist-packages/sklearn/utils/validation.py:760: DataConversionWarning: A column-vector y was passed when a 1d array was expected. Please change the shape of y to (n_samples, ), for example using ravel().\n",
            "  y = column_or_1d(y, warn=True)\n",
            "/usr/local/lib/python3.6/dist-packages/sklearn/utils/validation.py:760: DataConversionWarning: A column-vector y was passed when a 1d array was expected. Please change the shape of y to (n_samples, ), for example using ravel().\n",
            "  y = column_or_1d(y, warn=True)\n",
            "/usr/local/lib/python3.6/dist-packages/sklearn/utils/validation.py:760: DataConversionWarning: A column-vector y was passed when a 1d array was expected. Please change the shape of y to (n_samples, ), for example using ravel().\n",
            "  y = column_or_1d(y, warn=True)\n",
            "/usr/local/lib/python3.6/dist-packages/sklearn/utils/validation.py:760: DataConversionWarning: A column-vector y was passed when a 1d array was expected. Please change the shape of y to (n_samples, ), for example using ravel().\n",
            "  y = column_or_1d(y, warn=True)\n",
            "/usr/local/lib/python3.6/dist-packages/sklearn/model_selection/_validation.py:515: DataConversionWarning: A column-vector y was passed when a 1d array was expected. Please change the shape of y to (n_samples,), for example using ravel().\n",
            "  estimator.fit(X_train, y_train, **fit_params)\n",
            "/usr/local/lib/python3.6/dist-packages/sklearn/model_selection/_validation.py:515: DataConversionWarning: A column-vector y was passed when a 1d array was expected. Please change the shape of y to (n_samples,), for example using ravel().\n",
            "  estimator.fit(X_train, y_train, **fit_params)\n",
            "/usr/local/lib/python3.6/dist-packages/sklearn/model_selection/_validation.py:515: DataConversionWarning: A column-vector y was passed when a 1d array was expected. Please change the shape of y to (n_samples,), for example using ravel().\n",
            "  estimator.fit(X_train, y_train, **fit_params)\n",
            "/usr/local/lib/python3.6/dist-packages/sklearn/model_selection/_validation.py:515: DataConversionWarning: A column-vector y was passed when a 1d array was expected. Please change the shape of y to (n_samples,), for example using ravel().\n",
            "  estimator.fit(X_train, y_train, **fit_params)\n",
            "/usr/local/lib/python3.6/dist-packages/sklearn/model_selection/_validation.py:515: DataConversionWarning: A column-vector y was passed when a 1d array was expected. Please change the shape of y to (n_samples,), for example using ravel().\n",
            "  estimator.fit(X_train, y_train, **fit_params)\n",
            "/usr/local/lib/python3.6/dist-packages/sklearn/model_selection/_validation.py:515: DataConversionWarning: A column-vector y was passed when a 1d array was expected. Please change the shape of y to (n_samples,), for example using ravel().\n",
            "  estimator.fit(X_train, y_train, **fit_params)\n",
            "/usr/local/lib/python3.6/dist-packages/sklearn/model_selection/_validation.py:515: DataConversionWarning: A column-vector y was passed when a 1d array was expected. Please change the shape of y to (n_samples,), for example using ravel().\n",
            "  estimator.fit(X_train, y_train, **fit_params)\n",
            "/usr/local/lib/python3.6/dist-packages/sklearn/model_selection/_validation.py:515: DataConversionWarning: A column-vector y was passed when a 1d array was expected. Please change the shape of y to (n_samples,), for example using ravel().\n",
            "  estimator.fit(X_train, y_train, **fit_params)\n",
            "/usr/local/lib/python3.6/dist-packages/sklearn/model_selection/_validation.py:515: DataConversionWarning: A column-vector y was passed when a 1d array was expected. Please change the shape of y to (n_samples,), for example using ravel().\n",
            "  estimator.fit(X_train, y_train, **fit_params)\n",
            "/usr/local/lib/python3.6/dist-packages/sklearn/model_selection/_validation.py:515: DataConversionWarning: A column-vector y was passed when a 1d array was expected. Please change the shape of y to (n_samples,), for example using ravel().\n",
            "  estimator.fit(X_train, y_train, **fit_params)\n",
            "/usr/local/lib/python3.6/dist-packages/sklearn/model_selection/_validation.py:515: DataConversionWarning: A column-vector y was passed when a 1d array was expected. Please change the shape of y to (n_samples,), for example using ravel().\n",
            "  estimator.fit(X_train, y_train, **fit_params)\n",
            "/usr/local/lib/python3.6/dist-packages/sklearn/model_selection/_validation.py:515: DataConversionWarning: A column-vector y was passed when a 1d array was expected. Please change the shape of y to (n_samples,), for example using ravel().\n",
            "  estimator.fit(X_train, y_train, **fit_params)\n",
            "/usr/local/lib/python3.6/dist-packages/sklearn/model_selection/_validation.py:515: DataConversionWarning: A column-vector y was passed when a 1d array was expected. Please change the shape of y to (n_samples,), for example using ravel().\n",
            "  estimator.fit(X_train, y_train, **fit_params)\n",
            "/usr/local/lib/python3.6/dist-packages/sklearn/model_selection/_validation.py:515: DataConversionWarning: A column-vector y was passed when a 1d array was expected. Please change the shape of y to (n_samples,), for example using ravel().\n",
            "  estimator.fit(X_train, y_train, **fit_params)\n",
            "/usr/local/lib/python3.6/dist-packages/sklearn/model_selection/_validation.py:515: DataConversionWarning: A column-vector y was passed when a 1d array was expected. Please change the shape of y to (n_samples,), for example using ravel().\n",
            "  estimator.fit(X_train, y_train, **fit_params)\n",
            "/usr/local/lib/python3.6/dist-packages/sklearn/model_selection/_validation.py:515: DataConversionWarning: A column-vector y was passed when a 1d array was expected. Please change the shape of y to (n_samples,), for example using ravel().\n",
            "  estimator.fit(X_train, y_train, **fit_params)\n",
            "/usr/local/lib/python3.6/dist-packages/sklearn/model_selection/_validation.py:515: DataConversionWarning: A column-vector y was passed when a 1d array was expected. Please change the shape of y to (n_samples,), for example using ravel().\n",
            "  estimator.fit(X_train, y_train, **fit_params)\n",
            "/usr/local/lib/python3.6/dist-packages/sklearn/model_selection/_validation.py:515: DataConversionWarning: A column-vector y was passed when a 1d array was expected. Please change the shape of y to (n_samples,), for example using ravel().\n",
            "  estimator.fit(X_train, y_train, **fit_params)\n",
            "/usr/local/lib/python3.6/dist-packages/sklearn/model_selection/_validation.py:515: DataConversionWarning: A column-vector y was passed when a 1d array was expected. Please change the shape of y to (n_samples,), for example using ravel().\n",
            "  estimator.fit(X_train, y_train, **fit_params)\n",
            "/usr/local/lib/python3.6/dist-packages/sklearn/model_selection/_validation.py:515: DataConversionWarning: A column-vector y was passed when a 1d array was expected. Please change the shape of y to (n_samples,), for example using ravel().\n",
            "  estimator.fit(X_train, y_train, **fit_params)\n",
            "/usr/local/lib/python3.6/dist-packages/sklearn/model_selection/_validation.py:515: DataConversionWarning: A column-vector y was passed when a 1d array was expected. Please change the shape of y to (n_samples,), for example using ravel().\n",
            "  estimator.fit(X_train, y_train, **fit_params)\n",
            "/usr/local/lib/python3.6/dist-packages/sklearn/model_selection/_validation.py:515: DataConversionWarning: A column-vector y was passed when a 1d array was expected. Please change the shape of y to (n_samples,), for example using ravel().\n",
            "  estimator.fit(X_train, y_train, **fit_params)\n",
            "/usr/local/lib/python3.6/dist-packages/sklearn/model_selection/_validation.py:515: DataConversionWarning: A column-vector y was passed when a 1d array was expected. Please change the shape of y to (n_samples,), for example using ravel().\n",
            "  estimator.fit(X_train, y_train, **fit_params)\n",
            "/usr/local/lib/python3.6/dist-packages/sklearn/model_selection/_validation.py:515: DataConversionWarning: A column-vector y was passed when a 1d array was expected. Please change the shape of y to (n_samples,), for example using ravel().\n",
            "  estimator.fit(X_train, y_train, **fit_params)\n",
            "/usr/local/lib/python3.6/dist-packages/sklearn/model_selection/_validation.py:515: DataConversionWarning: A column-vector y was passed when a 1d array was expected. Please change the shape of y to (n_samples,), for example using ravel().\n",
            "  estimator.fit(X_train, y_train, **fit_params)\n",
            "/usr/local/lib/python3.6/dist-packages/sklearn/model_selection/_validation.py:515: DataConversionWarning: A column-vector y was passed when a 1d array was expected. Please change the shape of y to (n_samples,), for example using ravel().\n",
            "  estimator.fit(X_train, y_train, **fit_params)\n",
            "/usr/local/lib/python3.6/dist-packages/sklearn/model_selection/_validation.py:515: DataConversionWarning: A column-vector y was passed when a 1d array was expected. Please change the shape of y to (n_samples,), for example using ravel().\n",
            "  estimator.fit(X_train, y_train, **fit_params)\n",
            "/usr/local/lib/python3.6/dist-packages/sklearn/model_selection/_validation.py:515: DataConversionWarning: A column-vector y was passed when a 1d array was expected. Please change the shape of y to (n_samples,), for example using ravel().\n",
            "  estimator.fit(X_train, y_train, **fit_params)\n",
            "/usr/local/lib/python3.6/dist-packages/sklearn/model_selection/_validation.py:515: DataConversionWarning: A column-vector y was passed when a 1d array was expected. Please change the shape of y to (n_samples,), for example using ravel().\n",
            "  estimator.fit(X_train, y_train, **fit_params)\n",
            "/usr/local/lib/python3.6/dist-packages/sklearn/model_selection/_validation.py:515: DataConversionWarning: A column-vector y was passed when a 1d array was expected. Please change the shape of y to (n_samples,), for example using ravel().\n",
            "  estimator.fit(X_train, y_train, **fit_params)\n",
            "/usr/local/lib/python3.6/dist-packages/sklearn/model_selection/_validation.py:515: DataConversionWarning: A column-vector y was passed when a 1d array was expected. Please change the shape of y to (n_samples,), for example using ravel().\n",
            "  estimator.fit(X_train, y_train, **fit_params)\n",
            "/usr/local/lib/python3.6/dist-packages/sklearn/model_selection/_validation.py:515: DataConversionWarning: A column-vector y was passed when a 1d array was expected. Please change the shape of y to (n_samples,), for example using ravel().\n",
            "  estimator.fit(X_train, y_train, **fit_params)\n",
            "/usr/local/lib/python3.6/dist-packages/sklearn/model_selection/_validation.py:515: DataConversionWarning: A column-vector y was passed when a 1d array was expected. Please change the shape of y to (n_samples,), for example using ravel().\n",
            "  estimator.fit(X_train, y_train, **fit_params)\n",
            "/usr/local/lib/python3.6/dist-packages/sklearn/model_selection/_validation.py:515: DataConversionWarning: A column-vector y was passed when a 1d array was expected. Please change the shape of y to (n_samples,), for example using ravel().\n",
            "  estimator.fit(X_train, y_train, **fit_params)\n",
            "/usr/local/lib/python3.6/dist-packages/sklearn/model_selection/_validation.py:515: DataConversionWarning: A column-vector y was passed when a 1d array was expected. Please change the shape of y to (n_samples,), for example using ravel().\n",
            "  estimator.fit(X_train, y_train, **fit_params)\n",
            "/usr/local/lib/python3.6/dist-packages/sklearn/model_selection/_validation.py:515: DataConversionWarning: A column-vector y was passed when a 1d array was expected. Please change the shape of y to (n_samples,), for example using ravel().\n",
            "  estimator.fit(X_train, y_train, **fit_params)\n",
            "/usr/local/lib/python3.6/dist-packages/sklearn/model_selection/_validation.py:515: DataConversionWarning: A column-vector y was passed when a 1d array was expected. Please change the shape of y to (n_samples,), for example using ravel().\n",
            "  estimator.fit(X_train, y_train, **fit_params)\n",
            "/usr/local/lib/python3.6/dist-packages/sklearn/model_selection/_validation.py:515: DataConversionWarning: A column-vector y was passed when a 1d array was expected. Please change the shape of y to (n_samples,), for example using ravel().\n",
            "  estimator.fit(X_train, y_train, **fit_params)\n",
            "/usr/local/lib/python3.6/dist-packages/sklearn/model_selection/_validation.py:515: DataConversionWarning: A column-vector y was passed when a 1d array was expected. Please change the shape of y to (n_samples,), for example using ravel().\n",
            "  estimator.fit(X_train, y_train, **fit_params)\n",
            "/usr/local/lib/python3.6/dist-packages/sklearn/model_selection/_validation.py:515: DataConversionWarning: A column-vector y was passed when a 1d array was expected. Please change the shape of y to (n_samples,), for example using ravel().\n",
            "  estimator.fit(X_train, y_train, **fit_params)\n",
            "/usr/local/lib/python3.6/dist-packages/sklearn/model_selection/_validation.py:515: DataConversionWarning: A column-vector y was passed when a 1d array was expected. Please change the shape of y to (n_samples,), for example using ravel().\n",
            "  estimator.fit(X_train, y_train, **fit_params)\n",
            "/usr/local/lib/python3.6/dist-packages/sklearn/model_selection/_validation.py:515: DataConversionWarning: A column-vector y was passed when a 1d array was expected. Please change the shape of y to (n_samples,), for example using ravel().\n",
            "  estimator.fit(X_train, y_train, **fit_params)\n",
            "/usr/local/lib/python3.6/dist-packages/sklearn/model_selection/_validation.py:515: DataConversionWarning: A column-vector y was passed when a 1d array was expected. Please change the shape of y to (n_samples,), for example using ravel().\n",
            "  estimator.fit(X_train, y_train, **fit_params)\n",
            "/usr/local/lib/python3.6/dist-packages/sklearn/model_selection/_validation.py:515: DataConversionWarning: A column-vector y was passed when a 1d array was expected. Please change the shape of y to (n_samples,), for example using ravel().\n",
            "  estimator.fit(X_train, y_train, **fit_params)\n",
            "/usr/local/lib/python3.6/dist-packages/sklearn/model_selection/_validation.py:515: DataConversionWarning: A column-vector y was passed when a 1d array was expected. Please change the shape of y to (n_samples,), for example using ravel().\n",
            "  estimator.fit(X_train, y_train, **fit_params)\n",
            "/usr/local/lib/python3.6/dist-packages/sklearn/model_selection/_validation.py:515: DataConversionWarning: A column-vector y was passed when a 1d array was expected. Please change the shape of y to (n_samples,), for example using ravel().\n",
            "  estimator.fit(X_train, y_train, **fit_params)\n",
            "/usr/local/lib/python3.6/dist-packages/sklearn/model_selection/_validation.py:515: DataConversionWarning: A column-vector y was passed when a 1d array was expected. Please change the shape of y to (n_samples,), for example using ravel().\n",
            "  estimator.fit(X_train, y_train, **fit_params)\n",
            "/usr/local/lib/python3.6/dist-packages/sklearn/model_selection/_validation.py:515: DataConversionWarning: A column-vector y was passed when a 1d array was expected. Please change the shape of y to (n_samples,), for example using ravel().\n",
            "  estimator.fit(X_train, y_train, **fit_params)\n",
            "/usr/local/lib/python3.6/dist-packages/sklearn/model_selection/_validation.py:515: DataConversionWarning: A column-vector y was passed when a 1d array was expected. Please change the shape of y to (n_samples,), for example using ravel().\n",
            "  estimator.fit(X_train, y_train, **fit_params)\n",
            "/usr/local/lib/python3.6/dist-packages/sklearn/model_selection/_validation.py:515: DataConversionWarning: A column-vector y was passed when a 1d array was expected. Please change the shape of y to (n_samples,), for example using ravel().\n",
            "  estimator.fit(X_train, y_train, **fit_params)\n",
            "/usr/local/lib/python3.6/dist-packages/sklearn/model_selection/_validation.py:515: DataConversionWarning: A column-vector y was passed when a 1d array was expected. Please change the shape of y to (n_samples,), for example using ravel().\n",
            "  estimator.fit(X_train, y_train, **fit_params)\n",
            "/usr/local/lib/python3.6/dist-packages/sklearn/model_selection/_validation.py:515: DataConversionWarning: A column-vector y was passed when a 1d array was expected. Please change the shape of y to (n_samples,), for example using ravel().\n",
            "  estimator.fit(X_train, y_train, **fit_params)\n",
            "/usr/local/lib/python3.6/dist-packages/sklearn/model_selection/_validation.py:515: DataConversionWarning: A column-vector y was passed when a 1d array was expected. Please change the shape of y to (n_samples,), for example using ravel().\n",
            "  estimator.fit(X_train, y_train, **fit_params)\n",
            "/usr/local/lib/python3.6/dist-packages/sklearn/model_selection/_validation.py:515: DataConversionWarning: A column-vector y was passed when a 1d array was expected. Please change the shape of y to (n_samples,), for example using ravel().\n",
            "  estimator.fit(X_train, y_train, **fit_params)\n",
            "/usr/local/lib/python3.6/dist-packages/sklearn/model_selection/_validation.py:515: DataConversionWarning: A column-vector y was passed when a 1d array was expected. Please change the shape of y to (n_samples,), for example using ravel().\n",
            "  estimator.fit(X_train, y_train, **fit_params)\n",
            "/usr/local/lib/python3.6/dist-packages/sklearn/model_selection/_validation.py:515: DataConversionWarning: A column-vector y was passed when a 1d array was expected. Please change the shape of y to (n_samples,), for example using ravel().\n",
            "  estimator.fit(X_train, y_train, **fit_params)\n",
            "/usr/local/lib/python3.6/dist-packages/sklearn/model_selection/_validation.py:515: DataConversionWarning: A column-vector y was passed when a 1d array was expected. Please change the shape of y to (n_samples,), for example using ravel().\n",
            "  estimator.fit(X_train, y_train, **fit_params)\n",
            "/usr/local/lib/python3.6/dist-packages/sklearn/model_selection/_validation.py:515: DataConversionWarning: A column-vector y was passed when a 1d array was expected. Please change the shape of y to (n_samples,), for example using ravel().\n",
            "  estimator.fit(X_train, y_train, **fit_params)\n",
            "/usr/local/lib/python3.6/dist-packages/sklearn/model_selection/_validation.py:515: DataConversionWarning: A column-vector y was passed when a 1d array was expected. Please change the shape of y to (n_samples,), for example using ravel().\n",
            "  estimator.fit(X_train, y_train, **fit_params)\n",
            "/usr/local/lib/python3.6/dist-packages/sklearn/model_selection/_validation.py:515: DataConversionWarning: A column-vector y was passed when a 1d array was expected. Please change the shape of y to (n_samples,), for example using ravel().\n",
            "  estimator.fit(X_train, y_train, **fit_params)\n",
            "/usr/local/lib/python3.6/dist-packages/sklearn/model_selection/_validation.py:515: DataConversionWarning: A column-vector y was passed when a 1d array was expected. Please change the shape of y to (n_samples,), for example using ravel().\n",
            "  estimator.fit(X_train, y_train, **fit_params)\n",
            "/usr/local/lib/python3.6/dist-packages/sklearn/model_selection/_validation.py:515: DataConversionWarning: A column-vector y was passed when a 1d array was expected. Please change the shape of y to (n_samples,), for example using ravel().\n",
            "  estimator.fit(X_train, y_train, **fit_params)\n",
            "/usr/local/lib/python3.6/dist-packages/sklearn/model_selection/_validation.py:515: DataConversionWarning: A column-vector y was passed when a 1d array was expected. Please change the shape of y to (n_samples,), for example using ravel().\n",
            "  estimator.fit(X_train, y_train, **fit_params)\n",
            "/usr/local/lib/python3.6/dist-packages/sklearn/model_selection/_validation.py:515: DataConversionWarning: A column-vector y was passed when a 1d array was expected. Please change the shape of y to (n_samples,), for example using ravel().\n",
            "  estimator.fit(X_train, y_train, **fit_params)\n",
            "/usr/local/lib/python3.6/dist-packages/sklearn/model_selection/_validation.py:515: DataConversionWarning: A column-vector y was passed when a 1d array was expected. Please change the shape of y to (n_samples,), for example using ravel().\n",
            "  estimator.fit(X_train, y_train, **fit_params)\n",
            "/usr/local/lib/python3.6/dist-packages/sklearn/model_selection/_validation.py:515: DataConversionWarning: A column-vector y was passed when a 1d array was expected. Please change the shape of y to (n_samples,), for example using ravel().\n",
            "  estimator.fit(X_train, y_train, **fit_params)\n",
            "/usr/local/lib/python3.6/dist-packages/sklearn/model_selection/_validation.py:515: DataConversionWarning: A column-vector y was passed when a 1d array was expected. Please change the shape of y to (n_samples,), for example using ravel().\n",
            "  estimator.fit(X_train, y_train, **fit_params)\n",
            "/usr/local/lib/python3.6/dist-packages/sklearn/model_selection/_validation.py:515: DataConversionWarning: A column-vector y was passed when a 1d array was expected. Please change the shape of y to (n_samples,), for example using ravel().\n",
            "  estimator.fit(X_train, y_train, **fit_params)\n",
            "/usr/local/lib/python3.6/dist-packages/sklearn/model_selection/_validation.py:515: DataConversionWarning: A column-vector y was passed when a 1d array was expected. Please change the shape of y to (n_samples,), for example using ravel().\n",
            "  estimator.fit(X_train, y_train, **fit_params)\n",
            "/usr/local/lib/python3.6/dist-packages/sklearn/model_selection/_validation.py:515: DataConversionWarning: A column-vector y was passed when a 1d array was expected. Please change the shape of y to (n_samples,), for example using ravel().\n",
            "  estimator.fit(X_train, y_train, **fit_params)\n",
            "/usr/local/lib/python3.6/dist-packages/sklearn/model_selection/_validation.py:515: DataConversionWarning: A column-vector y was passed when a 1d array was expected. Please change the shape of y to (n_samples,), for example using ravel().\n",
            "  estimator.fit(X_train, y_train, **fit_params)\n",
            "/usr/local/lib/python3.6/dist-packages/sklearn/model_selection/_validation.py:515: DataConversionWarning: A column-vector y was passed when a 1d array was expected. Please change the shape of y to (n_samples,), for example using ravel().\n",
            "  estimator.fit(X_train, y_train, **fit_params)\n",
            "/usr/local/lib/python3.6/dist-packages/sklearn/model_selection/_validation.py:515: DataConversionWarning: A column-vector y was passed when a 1d array was expected. Please change the shape of y to (n_samples,), for example using ravel().\n",
            "  estimator.fit(X_train, y_train, **fit_params)\n",
            "/usr/local/lib/python3.6/dist-packages/sklearn/model_selection/_validation.py:515: DataConversionWarning: A column-vector y was passed when a 1d array was expected. Please change the shape of y to (n_samples,), for example using ravel().\n",
            "  estimator.fit(X_train, y_train, **fit_params)\n",
            "/usr/local/lib/python3.6/dist-packages/sklearn/model_selection/_validation.py:515: DataConversionWarning: A column-vector y was passed when a 1d array was expected. Please change the shape of y to (n_samples,), for example using ravel().\n",
            "  estimator.fit(X_train, y_train, **fit_params)\n",
            "/usr/local/lib/python3.6/dist-packages/sklearn/model_selection/_search.py:739: DataConversionWarning: A column-vector y was passed when a 1d array was expected. Please change the shape of y to (n_samples,), for example using ravel().\n",
            "  self.best_estimator_.fit(X, y, **fit_params)\n",
            "/usr/local/lib/python3.6/dist-packages/sklearn/utils/validation.py:760: DataConversionWarning: A column-vector y was passed when a 1d array was expected. Please change the shape of y to (n_samples, ), for example using ravel().\n",
            "  y = column_or_1d(y, warn=True)\n",
            "/usr/local/lib/python3.6/dist-packages/sklearn/utils/validation.py:760: DataConversionWarning: A column-vector y was passed when a 1d array was expected. Please change the shape of y to (n_samples, ), for example using ravel().\n",
            "  y = column_or_1d(y, warn=True)\n",
            "/usr/local/lib/python3.6/dist-packages/sklearn/utils/validation.py:760: DataConversionWarning: A column-vector y was passed when a 1d array was expected. Please change the shape of y to (n_samples, ), for example using ravel().\n",
            "  y = column_or_1d(y, warn=True)\n",
            "/usr/local/lib/python3.6/dist-packages/sklearn/utils/validation.py:760: DataConversionWarning: A column-vector y was passed when a 1d array was expected. Please change the shape of y to (n_samples, ), for example using ravel().\n",
            "  y = column_or_1d(y, warn=True)\n",
            "/usr/local/lib/python3.6/dist-packages/sklearn/utils/validation.py:760: DataConversionWarning: A column-vector y was passed when a 1d array was expected. Please change the shape of y to (n_samples, ), for example using ravel().\n",
            "  y = column_or_1d(y, warn=True)\n",
            "/usr/local/lib/python3.6/dist-packages/sklearn/utils/validation.py:760: DataConversionWarning: A column-vector y was passed when a 1d array was expected. Please change the shape of y to (n_samples, ), for example using ravel().\n",
            "  y = column_or_1d(y, warn=True)\n",
            "/usr/local/lib/python3.6/dist-packages/sklearn/utils/validation.py:760: DataConversionWarning: A column-vector y was passed when a 1d array was expected. Please change the shape of y to (n_samples, ), for example using ravel().\n",
            "  y = column_or_1d(y, warn=True)\n",
            "/usr/local/lib/python3.6/dist-packages/sklearn/utils/validation.py:760: DataConversionWarning: A column-vector y was passed when a 1d array was expected. Please change the shape of y to (n_samples, ), for example using ravel().\n",
            "  y = column_or_1d(y, warn=True)\n",
            "/usr/local/lib/python3.6/dist-packages/sklearn/utils/validation.py:760: DataConversionWarning: A column-vector y was passed when a 1d array was expected. Please change the shape of y to (n_samples, ), for example using ravel().\n",
            "  y = column_or_1d(y, warn=True)\n",
            "/usr/local/lib/python3.6/dist-packages/sklearn/utils/validation.py:760: DataConversionWarning: A column-vector y was passed when a 1d array was expected. Please change the shape of y to (n_samples, ), for example using ravel().\n",
            "  y = column_or_1d(y, warn=True)\n",
            "/usr/local/lib/python3.6/dist-packages/sklearn/utils/validation.py:760: DataConversionWarning: A column-vector y was passed when a 1d array was expected. Please change the shape of y to (n_samples, ), for example using ravel().\n",
            "  y = column_or_1d(y, warn=True)\n",
            "/usr/local/lib/python3.6/dist-packages/sklearn/utils/validation.py:760: DataConversionWarning: A column-vector y was passed when a 1d array was expected. Please change the shape of y to (n_samples, ), for example using ravel().\n",
            "  y = column_or_1d(y, warn=True)\n",
            "/usr/local/lib/python3.6/dist-packages/sklearn/utils/validation.py:760: DataConversionWarning: A column-vector y was passed when a 1d array was expected. Please change the shape of y to (n_samples, ), for example using ravel().\n",
            "  y = column_or_1d(y, warn=True)\n",
            "/usr/local/lib/python3.6/dist-packages/sklearn/utils/validation.py:760: DataConversionWarning: A column-vector y was passed when a 1d array was expected. Please change the shape of y to (n_samples, ), for example using ravel().\n",
            "  y = column_or_1d(y, warn=True)\n",
            "/usr/local/lib/python3.6/dist-packages/sklearn/utils/validation.py:760: DataConversionWarning: A column-vector y was passed when a 1d array was expected. Please change the shape of y to (n_samples, ), for example using ravel().\n",
            "  y = column_or_1d(y, warn=True)\n",
            "/usr/local/lib/python3.6/dist-packages/sklearn/utils/validation.py:760: DataConversionWarning: A column-vector y was passed when a 1d array was expected. Please change the shape of y to (n_samples, ), for example using ravel().\n",
            "  y = column_or_1d(y, warn=True)\n"
          ],
          "name": "stderr"
        }
      ]
    },
    {
      "cell_type": "code",
      "metadata": {
        "id": "wbHuyfoU43hh",
        "colab_type": "code",
        "outputId": "33c5e1c7-727a-424d-dcf2-03e5e6139bb9",
        "colab": {
          "base_uri": "https://localhost:8080/",
          "height": 756
        }
      },
      "source": [
        "# \n",
        "for (model_name,m) in clf.items():\n",
        "  print(model_name)\n",
        "  print(classification_report(y_val,m.predict(X_val)))\n",
        "  print('-----------------------------------------------')"
      ],
      "execution_count": 45,
      "outputs": [
        {
          "output_type": "stream",
          "text": [
            "LogisticRegression\n",
            "              precision    recall  f1-score   support\n",
            "\n",
            "           0       0.72      0.72      0.72       895\n",
            "           1       0.71      0.71      0.71       869\n",
            "\n",
            "    accuracy                           0.71      1764\n",
            "   macro avg       0.71      0.71      0.71      1764\n",
            "weighted avg       0.71      0.71      0.71      1764\n",
            "\n",
            "-----------------------------------------------\n",
            "RandomForest\n",
            "              precision    recall  f1-score   support\n",
            "\n",
            "           0       0.71      0.72      0.71       895\n",
            "           1       0.71      0.70      0.70       869\n",
            "\n",
            "    accuracy                           0.71      1764\n",
            "   macro avg       0.71      0.71      0.71      1764\n",
            "weighted avg       0.71      0.71      0.71      1764\n",
            "\n",
            "-----------------------------------------------\n",
            "DecisionTree\n",
            "              precision    recall  f1-score   support\n",
            "\n",
            "           0       0.73      0.68      0.70       895\n",
            "           1       0.69      0.74      0.71       869\n",
            "\n",
            "    accuracy                           0.71      1764\n",
            "   macro avg       0.71      0.71      0.71      1764\n",
            "weighted avg       0.71      0.71      0.71      1764\n",
            "\n",
            "-----------------------------------------------\n",
            "SVC\n",
            "              precision    recall  f1-score   support\n",
            "\n",
            "           0       0.72      0.72      0.72       895\n",
            "           1       0.71      0.71      0.71       869\n",
            "\n",
            "    accuracy                           0.71      1764\n",
            "   macro avg       0.71      0.71      0.71      1764\n",
            "weighted avg       0.71      0.71      0.71      1764\n",
            "\n",
            "-----------------------------------------------\n"
          ],
          "name": "stdout"
        }
      ]
    },
    {
      "cell_type": "code",
      "metadata": {
        "id": "XGsE7guUZJkz",
        "colab_type": "code",
        "outputId": "33cfe606-65be-4d05-b7f6-33069e7f639b",
        "colab": {
          "base_uri": "https://localhost:8080/",
          "height": 756
        }
      },
      "source": [
        "# \n",
        "for (model_name,m) in clf.items():\n",
        "  print(model_name)\n",
        "  print(classification_report(y_test,m.predict(X_test)))\n",
        "  print('-----------------------------------------------')"
      ],
      "execution_count": 46,
      "outputs": [
        {
          "output_type": "stream",
          "text": [
            "LogisticRegression\n",
            "              precision    recall  f1-score   support\n",
            "\n",
            "           0       0.71      0.75      0.73      1151\n",
            "           1       0.71      0.67      0.69      1054\n",
            "\n",
            "    accuracy                           0.71      2205\n",
            "   macro avg       0.71      0.71      0.71      2205\n",
            "weighted avg       0.71      0.71      0.71      2205\n",
            "\n",
            "-----------------------------------------------\n",
            "RandomForest\n",
            "              precision    recall  f1-score   support\n",
            "\n",
            "           0       0.72      0.74      0.73      1151\n",
            "           1       0.71      0.68      0.69      1054\n",
            "\n",
            "    accuracy                           0.71      2205\n",
            "   macro avg       0.71      0.71      0.71      2205\n",
            "weighted avg       0.71      0.71      0.71      2205\n",
            "\n",
            "-----------------------------------------------\n",
            "DecisionTree\n",
            "              precision    recall  f1-score   support\n",
            "\n",
            "           0       0.74      0.70      0.72      1151\n",
            "           1       0.69      0.73      0.71      1054\n",
            "\n",
            "    accuracy                           0.71      2205\n",
            "   macro avg       0.71      0.71      0.71      2205\n",
            "weighted avg       0.71      0.71      0.71      2205\n",
            "\n",
            "-----------------------------------------------\n",
            "SVC\n",
            "              precision    recall  f1-score   support\n",
            "\n",
            "           0       0.72      0.73      0.73      1151\n",
            "           1       0.70      0.69      0.69      1054\n",
            "\n",
            "    accuracy                           0.71      2205\n",
            "   macro avg       0.71      0.71      0.71      2205\n",
            "weighted avg       0.71      0.71      0.71      2205\n",
            "\n",
            "-----------------------------------------------\n"
          ],
          "name": "stdout"
        }
      ]
    },
    {
      "cell_type": "markdown",
      "metadata": {
        "id": "r2UH_hOqqGVR",
        "colab_type": "text"
      },
      "source": [
        "## XGBoost"
      ]
    },
    {
      "cell_type": "code",
      "metadata": {
        "id": "CKLUZd8jZJhf",
        "colab_type": "code",
        "colab": {}
      },
      "source": [
        "from xgboost import XGBClassifier"
      ],
      "execution_count": 0,
      "outputs": []
    },
    {
      "cell_type": "code",
      "metadata": {
        "id": "YnsnTIh9nAz-",
        "colab_type": "code",
        "outputId": "ffc6eaea-ac4b-40ca-a67f-3a3bbcd53690",
        "colab": {
          "base_uri": "https://localhost:8080/",
          "height": 222
        }
      },
      "source": [
        "xg = XGBClassifier(max_depth=4, learning_rate=0.01, n_estimators=300)\n",
        "xg.fit(X_train,y_train)"
      ],
      "execution_count": 48,
      "outputs": [
        {
          "output_type": "stream",
          "text": [
            "/usr/local/lib/python3.6/dist-packages/sklearn/preprocessing/_label.py:235: DataConversionWarning: A column-vector y was passed when a 1d array was expected. Please change the shape of y to (n_samples, ), for example using ravel().\n",
            "  y = column_or_1d(y, warn=True)\n",
            "/usr/local/lib/python3.6/dist-packages/sklearn/preprocessing/_label.py:268: DataConversionWarning: A column-vector y was passed when a 1d array was expected. Please change the shape of y to (n_samples, ), for example using ravel().\n",
            "  y = column_or_1d(y, warn=True)\n"
          ],
          "name": "stderr"
        },
        {
          "output_type": "execute_result",
          "data": {
            "text/plain": [
              "XGBClassifier(base_score=0.5, booster='gbtree', colsample_bylevel=1,\n",
              "              colsample_bynode=1, colsample_bytree=1, gamma=0,\n",
              "              learning_rate=0.01, max_delta_step=0, max_depth=4,\n",
              "              min_child_weight=1, missing=None, n_estimators=300, n_jobs=1,\n",
              "              nthread=None, objective='binary:logistic', random_state=0,\n",
              "              reg_alpha=0, reg_lambda=1, scale_pos_weight=1, seed=None,\n",
              "              silent=None, subsample=1, verbosity=1)"
            ]
          },
          "metadata": {
            "tags": []
          },
          "execution_count": 48
        }
      ]
    },
    {
      "cell_type": "code",
      "metadata": {
        "id": "YIZl0v7in1Vc",
        "colab_type": "code",
        "outputId": "4642576e-c3b4-4009-ed77-541b073f18ed",
        "colab": {
          "base_uri": "https://localhost:8080/",
          "height": 370
        }
      },
      "source": [
        "print('Train data')\n",
        "print(classification_report(y_train,xg.predict(X_train)))\n",
        "print('-----------------------------------------------')\n",
        "print('Val data')\n",
        "print(classification_report(y_val,xg.predict(X_val)))"
      ],
      "execution_count": 49,
      "outputs": [
        {
          "output_type": "stream",
          "text": [
            "Train data\n",
            "              precision    recall  f1-score   support\n",
            "\n",
            "           0       0.71      0.72      0.72      3564\n",
            "           1       0.71      0.70      0.70      3489\n",
            "\n",
            "    accuracy                           0.71      7053\n",
            "   macro avg       0.71      0.71      0.71      7053\n",
            "weighted avg       0.71      0.71      0.71      7053\n",
            "\n",
            "-----------------------------------------------\n",
            "Val data\n",
            "              precision    recall  f1-score   support\n",
            "\n",
            "           0       0.72      0.71      0.71       895\n",
            "           1       0.70      0.72      0.71       869\n",
            "\n",
            "    accuracy                           0.71      1764\n",
            "   macro avg       0.71      0.71      0.71      1764\n",
            "weighted avg       0.71      0.71      0.71      1764\n",
            "\n"
          ],
          "name": "stdout"
        }
      ]
    },
    {
      "cell_type": "code",
      "metadata": {
        "id": "fUJohlByoyPq",
        "colab_type": "code",
        "outputId": "575ce759-6eda-4da8-d80b-9d80d2684169",
        "colab": {
          "base_uri": "https://localhost:8080/",
          "height": 185
        }
      },
      "source": [
        "print('Test data')\n",
        "print(classification_report(y_test,xg.predict(X_test)))"
      ],
      "execution_count": 50,
      "outputs": [
        {
          "output_type": "stream",
          "text": [
            "Test data\n",
            "              precision    recall  f1-score   support\n",
            "\n",
            "           0       0.72      0.73      0.73      1151\n",
            "           1       0.70      0.69      0.70      1054\n",
            "\n",
            "    accuracy                           0.71      2205\n",
            "   macro avg       0.71      0.71      0.71      2205\n",
            "weighted avg       0.71      0.71      0.71      2205\n",
            "\n"
          ],
          "name": "stdout"
        }
      ]
    },
    {
      "cell_type": "code",
      "metadata": {
        "id": "8sWPsNSi2eAL",
        "colab_type": "code",
        "outputId": "ec37c379-8e8d-4f73-a30d-c22422bdba97",
        "colab": {
          "base_uri": "https://localhost:8080/",
          "height": 1000
        }
      },
      "source": [
        "for i, (mName, m) in enumerate(clf.items()):\n",
        "  # if mName == \"SVC\" : continue\n",
        "  print(mName)\n",
        "  fig = plt.figure(figsize=[16, 4])\n",
        "  y_pred = m.predict_proba(X_test)[:, 1]\n",
        "  fpr, tpr, _ = roc_curve(y_test, y_pred)\n",
        "  ax = fig.add_subplot(1, 4, i+1)\n",
        "  ax.plot([0, 1], [0, 1], 'k--')\n",
        "  ax.plot(fpr, tpr)\n",
        "  ax.set_title(mName + ' roc score {0:.2f}'.format(roc_auc_score(y_test, y_pred)))\n",
        "\n",
        "plt.show()\n"
      ],
      "execution_count": 55,
      "outputs": [
        {
          "output_type": "stream",
          "text": [
            "LogisticRegression\n",
            "RandomForest\n",
            "DecisionTree\n",
            "SVC\n"
          ],
          "name": "stdout"
        },
        {
          "output_type": "display_data",
          "data": {
            "image/png": "[encoded data removed]",
            "text/plain": [
              "<Figure size 1152x288 with 1 Axes>"
            ]
          },
          "metadata": {
            "tags": []
          }
        },
        {
          "output_type": "display_data",
          "data": {
            "image/png": "[encoded data removed]",
            "text/plain": [
              "<Figure size 1152x288 with 1 Axes>"
            ]
          },
          "metadata": {
            "tags": []
          }
        },
        {
          "output_type": "display_data",
          "data": {
            "image/png": "[encoded data removed]",
            "text/plain": [
              "<Figure size 1152x288 with 1 Axes>"
            ]
          },
          "metadata": {
            "tags": []
          }
        },
        {
          "output_type": "display_data",
          "data": {
            "image/png": "[encoded data removed]",
            "text/plain": [
              "<Figure size 1152x288 with 1 Axes>"
            ]
          },
          "metadata": {
            "tags": []
          }
        }
      ]
    },
    {
      "cell_type": "markdown",
      "metadata": {
        "id": "1GrYbFd00y4Q",
        "colab_type": "text"
      },
      "source": [
        "## Simulate the world cup\n",
        "I use the code from this [Kaggle notebook](https://www.kaggle.com/agostontorok/soccer-world-cup-2018-winner) so kudos for this guy\n",
        "and also, since the REAL world cup outcome is quite surprise (Some strong team perform really bad eg. Germany)\n",
        "\n",
        "ALso, quick TL;DR :\n",
        "\n",
        "I run the test on each model and the predictions are got bias toward team rank (since our data only have rank). So I've decide to compare the result with FiveThirtyEight prediction before the tournament happen. If you look at the cells below you will see the result from decision tree model which I think it is the best model because I have test with all other model and the result are not resonable. From my own oppinion some model get a lot of bias toward the rank difference and some model just give a really random result.     "
      ]
    },
    {
      "cell_type": "code",
      "metadata": {
        "id": "O1MXyS1wZWj9",
        "colab_type": "code",
        "colab": {}
      },
      "source": [
        "world_cup = schedule\n",
        "\n",
        "# let's define a small margin when we safer to predict draw then win\n",
        "margin = 0.05\n",
        "\n",
        "# let's define the rankings at the time of the World Cup\n",
        "world_cup_rankings = rank.loc[(rank['rank_date'] == rank['rank_date'].max()) & \n",
        "                                    rank['country_full'].isin(world_cup.index.unique())]\n",
        "world_cup_rankings = world_cup_rankings.set_index(['country_full'])\n",
        "\n"
      ],
      "execution_count": 0,
      "outputs": []
    },
    {
      "cell_type": "code",
      "metadata": {
        "id": "DsJ56J3SZWQR",
        "colab_type": "code",
        "outputId": "793c21cd-9ba7-4009-c934-733efc17aa06",
        "colab": {
          "base_uri": "https://localhost:8080/",
          "height": 1000
        }
      },
      "source": [
        "from itertools import combinations\n",
        "model = clf['LogisticRegression']           ## change the model here!\n",
        "opponents = ['First match \\nagainst', 'Second match\\n against', 'Third match\\n against']\n",
        "\n",
        "world_cup['points'] = 0\n",
        "world_cup['total_prob'] = 0\n",
        "\n",
        "for group in set(world_cup['Group']):\n",
        "    print('___Starting group {}:___'.format(group))\n",
        "    for home, away in combinations(world_cup.query('Group == \"{}\"'.format(group)).index, 2):\n",
        "        print(\"{} vs. {}: \".format(home, away), end='')\n",
        "        if home != 'Russia':\n",
        "          row = pd.DataFrame(np.array([[np.nan, np.nan, False]]), columns=X_train.columns)\n",
        "        else:\n",
        "          row = pd.DataFrame(np.array([[np.nan, np.nan, True]]), columns=X_train.columns)\n",
        "  \n",
        "        home_rank = world_cup_rankings.loc[home, 'rank']\n",
        "        # home_points = world_cup_rankings.loc[home, 'weighted_points']\n",
        "        opp_rank = world_cup_rankings.loc[away, 'rank']\n",
        "        # opp_points = world_cup_rankings.loc[away, 'weighted_points']\n",
        "        row['avg_rank'] = (home_rank + opp_rank) / 2\n",
        "        row['rank_diff'] = home_rank - opp_rank\n",
        "        # row['point_difference'] = home_points - opp_points\n",
        "        \n",
        "        home_win_prob = model.predict_proba(row)[:,1][0]\n",
        "        world_cup.loc[home, 'total_prob'] += home_win_prob\n",
        "        world_cup.loc[away, 'total_prob'] += 1-home_win_prob\n",
        "        \n",
        "        print(home, home_rank, away,opp_rank)\n",
        "\n",
        "\n",
        "        points = 0\n",
        "        if home_win_prob <= 0.5 - margin:\n",
        "            print(\"{} wins with {:.2f}\".format(away, 1-home_win_prob))\n",
        "            world_cup.loc[away, 'points'] += 3\n",
        "        if home_win_prob > 0.5 - margin:\n",
        "            points = 1\n",
        "        if home_win_prob >= 0.5 + margin:\n",
        "            points = 3\n",
        "            world_cup.loc[home, 'points'] += 3\n",
        "            print(\"{} wins with {:.2f}\".format(home, home_win_prob))\n",
        "        if points == 1:\n",
        "            print(\"Draw\")\n",
        "            world_cup.loc[home, 'points'] += 1\n",
        "            world_cup.loc[away, 'points'] += 1"
      ],
      "execution_count": 0,
      "outputs": [
        {
          "output_type": "stream",
          "text": [
            "___Starting group G:___\n",
            "Belgium vs. Panama: Belgium 3.0 Panama 55.0\n",
            "Belgium wins with 0.74\n",
            "Belgium vs. Tunisia: Belgium 3.0 Tunisia 21.0\n",
            "Belgium wins with 0.58\n",
            "Belgium vs. England: Belgium 3.0 England 12.0\n",
            "Draw\n",
            "Panama vs. Tunisia: Panama 55.0 Tunisia 21.0\n",
            "Tunisia wins with 0.69\n",
            "Panama vs. England: Panama 55.0 England 12.0\n",
            "England wins with 0.73\n",
            "Tunisia vs. England: Tunisia 21.0 England 12.0\n",
            "England wins with 0.57\n",
            "___Starting group C:___\n",
            "France vs. Australia: France 7.0 Australia 36.0\n",
            "France wins with 0.63\n",
            "France vs. Peru: France 7.0 Peru 11.0\n",
            "Draw\n",
            "France vs. Denmark: France 7.0 Denmark 12.0\n",
            "Draw\n",
            "Australia vs. Peru: Australia 36.0 Peru 11.0\n",
            "Peru wins with 0.65\n",
            "Australia vs. Denmark: Australia 36.0 Denmark 12.0\n",
            "Denmark wins with 0.64\n",
            "Peru vs. Denmark: Peru 11.0 Denmark 12.0\n",
            "Draw\n",
            "___Starting group F:___\n",
            "Germany vs. Mexico: Germany 1.0 Mexico 15.0\n",
            "Germany wins with 0.55\n",
            "Germany vs. Sweden: Germany 1.0 Sweden 24.0\n",
            "Germany wins with 0.60\n",
            "Germany vs. Korea Republic: Germany 1.0 Korea Republic 57.0\n",
            "Germany wins with 0.76\n",
            "Mexico vs. Sweden: Mexico 15.0 Sweden 24.0\n",
            "Draw\n",
            "Mexico vs. Korea Republic: Mexico 15.0 Korea Republic 57.0\n",
            "Mexico wins with 0.70\n",
            "Sweden vs. Korea Republic: Sweden 24.0 Korea Republic 57.0\n",
            "Sweden wins with 0.65\n",
            "___Starting group D:___\n",
            "Argentina vs. Iceland: Argentina 5.0 Iceland 22.0\n",
            "Argentina wins with 0.57\n",
            "Argentina vs. Croatia: Argentina 5.0 Croatia 20.0\n",
            "Argentina wins with 0.56\n",
            "Argentina vs. Nigeria: Argentina 5.0 Nigeria 48.0\n",
            "Argentina wins with 0.70\n",
            "Iceland vs. Croatia: Iceland 22.0 Croatia 20.0\n",
            "Draw\n",
            "Iceland vs. Nigeria: Iceland 22.0 Nigeria 48.0\n",
            "Iceland wins with 0.62\n",
            "Croatia vs. Nigeria: Croatia 20.0 Nigeria 48.0\n",
            "Croatia wins with 0.63\n",
            "___Starting group H:___\n",
            "Poland vs. Senegal: Poland 8.0 Senegal 27.0\n",
            "Poland wins with 0.58\n",
            "Poland vs. Colombia: Poland 8.0 Colombia 16.0\n",
            "Draw\n",
            "Poland vs. Japan: Poland 8.0 Japan 61.0\n",
            "Poland wins with 0.74\n",
            "Senegal vs. Colombia: Senegal 27.0 Colombia 16.0\n",
            "Colombia wins with 0.58\n",
            "Senegal vs. Japan: Senegal 27.0 Japan 61.0\n",
            "Senegal wins with 0.66\n",
            "Colombia vs. Japan: Colombia 16.0 Japan 61.0\n",
            "Colombia wins with 0.71\n",
            "___Starting group B:___\n",
            "Portugal vs. Spain: Portugal 4.0 Spain 10.0\n",
            "Draw\n",
            "Portugal vs. Morocco: Portugal 4.0 Morocco 41.0\n",
            "Portugal wins with 0.67\n",
            "Portugal vs. Iran: Portugal 4.0 Iran 37.0\n",
            "Portugal wins with 0.65\n",
            "Spain vs. Morocco: Spain 10.0 Morocco 41.0\n",
            "Spain wins with 0.64\n",
            "Spain vs. Iran: Spain 10.0 Iran 37.0\n",
            "Spain wins with 0.62\n",
            "Morocco vs. Iran: Morocco 41.0 Iran 37.0\n",
            "Draw\n",
            "___Starting group E:___\n",
            "Brazil vs. Switzerland: Brazil 2.0 Switzerland 6.0\n",
            "Draw\n",
            "Brazil vs. Costa Rica: Brazil 2.0 Costa Rica 23.0\n",
            "Brazil wins with 0.59\n",
            "Brazil vs. Serbia: Brazil 2.0 Serbia 34.0\n",
            "Brazil wins with 0.65\n",
            "Switzerland vs. Costa Rica: Switzerland 6.0 Costa Rica 23.0\n",
            "Switzerland wins with 0.57\n",
            "Switzerland vs. Serbia: Switzerland 6.0 Serbia 34.0\n",
            "Switzerland wins with 0.63\n",
            "Costa Rica vs. Serbia: Costa Rica 23.0 Serbia 34.0\n",
            "Draw\n",
            "___Starting group A:___\n",
            "Russia vs. Saudi Arabia: Russia 70.0 Saudi Arabia 67.0\n",
            "Draw\n",
            "Russia vs. Egypt: Russia 70.0 Egypt 45.0\n",
            "Egypt wins with 0.63\n",
            "Russia vs. Uruguay: Russia 70.0 Uruguay 14.0\n",
            "Uruguay wins with 0.77\n",
            "Saudi Arabia vs. Egypt: Saudi Arabia 67.0 Egypt 45.0\n",
            "Egypt wins with 0.63\n",
            "Saudi Arabia vs. Uruguay: Saudi Arabia 67.0 Uruguay 14.0\n",
            "Uruguay wins with 0.77\n",
            "Egypt vs. Uruguay: Egypt 45.0 Uruguay 14.0\n",
            "Uruguay wins with 0.68\n"
          ],
          "name": "stdout"
        }
      ]
    },
    {
      "cell_type": "code",
      "metadata": {
        "id": "F1Dsw6ZjAvV3",
        "colab_type": "code",
        "outputId": "593ab71f-5b79-4109-92fe-12b13e83390f",
        "colab": {
          "base_uri": "https://localhost:8080/",
          "height": 77
        }
      },
      "source": [
        "row"
      ],
      "execution_count": 0,
      "outputs": [
        {
          "output_type": "execute_result",
          "data": {
            "text/html": [
              "<div>\n",
              "<style scoped>\n",
              "    .dataframe tbody tr th:only-of-type {\n",
              "        vertical-align: middle;\n",
              "    }\n",
              "\n",
              "    .dataframe tbody tr th {\n",
              "        vertical-align: top;\n",
              "    }\n",
              "\n",
              "    .dataframe thead th {\n",
              "        text-align: right;\n",
              "    }\n",
              "</style>\n",
              "<table border=\"1\" class=\"dataframe\">\n",
              "  <thead>\n",
              "    <tr style=\"text-align: right;\">\n",
              "      <th></th>\n",
              "      <th>avg_rank</th>\n",
              "      <th>rank_diff</th>\n",
              "      <th>is_home</th>\n",
              "    </tr>\n",
              "  </thead>\n",
              "  <tbody>\n",
              "    <tr>\n",
              "      <th>0</th>\n",
              "      <td>29.5</td>\n",
              "      <td>31.0</td>\n",
              "      <td>0.0</td>\n",
              "    </tr>\n",
              "  </tbody>\n",
              "</table>\n",
              "</div>"
            ],
            "text/plain": [
              "   avg_rank  rank_diff  is_home\n",
              "0      29.5       31.0      0.0"
            ]
          },
          "metadata": {
            "tags": []
          },
          "execution_count": 53
        }
      ]
    },
    {
      "cell_type": "code",
      "metadata": {
        "id": "495L5rGM5wlz",
        "colab_type": "code",
        "colab": {}
      },
      "source": [
        "# world_cup_rankings\n",
        "# world_cup = world_cup.drop(['level_0','index'], axis=1)"
      ],
      "execution_count": 0,
      "outputs": []
    },
    {
      "cell_type": "code",
      "metadata": {
        "id": "2U7Lm8j202Xo",
        "colab_type": "code",
        "outputId": "64e310e7-095f-47f1-81f0-fb6615778324",
        "colab": {
          "base_uri": "https://localhost:8080/",
          "height": 492
        }
      },
      "source": [
        "pairing = [0,3,4,7,8,11,12,15,1,2,5,6,9,10,13,14]\n",
        "\n",
        "world_cup = world_cup.sort_values(by=['Group', 'points', 'total_prob'], ascending=False).reset_index()\n",
        "next_round_wc = world_cup.groupby('Group').nth([0, 1]) # select the top 2\n",
        "next_round_wc = next_round_wc.reset_index()\n",
        "next_round_wc = next_round_wc.loc[pairing]\n",
        "next_round_wc = next_round_wc.set_index('Team')\n",
        "\n",
        "finals = ['round_of_16', 'quarterfinal', 'semifinal', 'final']\n",
        "\n",
        "labels = list()\n",
        "odds = list()\n",
        "\n",
        "for f in finals:\n",
        "    print(\"___Starting of the {}___\".format(f))\n",
        "    iterations = int(len(next_round_wc) / 2)\n",
        "    winners = []\n",
        "\n",
        "    for i in range(iterations):\n",
        "        home = next_round_wc.index[i*2]\n",
        "        away = next_round_wc.index[i*2+1]\n",
        "        print(\"{} vs. {}: \".format(home,\n",
        "                                   away), \n",
        "                                   end='')\n",
        "        if home != 'Russia':\n",
        "          row = pd.DataFrame(np.array([[np.nan, np.nan, False]]), columns=X_train.columns)\n",
        "        else:\n",
        "          row = pd.DataFrame(np.array([[np.nan, np.nan, True]]), columns=X_train.columns)\n",
        "        home_rank = world_cup_rankings.loc[home, 'rank']\n",
        "        # home_points = world_cup_rankings.loc[home, 'weighted_points']\n",
        "        opp_rank = world_cup_rankings.loc[away, 'rank']\n",
        "        # opp_points = world_cup_rankings.loc[away, 'weighted_points']\n",
        "        row['avg_rank'] = (home_rank + opp_rank) / 2\n",
        "        row['rank_diff'] = home_rank - opp_rank\n",
        "        # row['point_difference'] = home_points - opp_points\n",
        "\n",
        "        home_win_prob = model.predict_proba(row)[:,1][0]\n",
        "        if model.predict_proba(row)[:,1] <= 0.5:\n",
        "            print(\"{0} wins with probability {1:.2f}\".format(away, 1-home_win_prob))\n",
        "            winners.append(away)\n",
        "        else:\n",
        "            print(\"{0} wins with probability {1:.2f}\".format(home, home_win_prob))\n",
        "            winners.append(home)\n",
        "\n",
        "        labels.append(\"{}({:.2f}) vs. {}({:.2f})\".format(world_cup_rankings.loc[home, 'country_abrv'], \n",
        "                                                        1/home_win_prob, \n",
        "                                                        world_cup_rankings.loc[away, 'country_abrv'], \n",
        "                                                        1/(1-home_win_prob)))\n",
        "        odds.append([home_win_prob, 1-home_win_prob])\n",
        "                \n",
        "    next_round_wc = next_round_wc.loc[winners]\n",
        "    print(\"\\n\")"
      ],
      "execution_count": 0,
      "outputs": [
        {
          "output_type": "stream",
          "text": [
            "___Starting of the round_of_16___\n",
            "Uruguay vs. Spain: Spain wins with probability 0.54\n",
            "Denmark vs. Croatia: Denmark wins with probability 0.52\n",
            "Brazil vs. Mexico: Brazil wins with probability 0.55\n",
            "Belgium vs. Colombia: Belgium wins with probability 0.55\n",
            "Egypt vs. Portugal: Portugal wins with probability 0.72\n",
            "France vs. Argentina: Argentina wins with probability 0.53\n",
            "Switzerland vs. Germany: Germany wins with probability 0.55\n",
            "England vs. Poland: Poland wins with probability 0.54\n",
            "\n",
            "\n",
            "___Starting of the quarterfinal___\n",
            "Spain vs. Denmark: Denmark wins with probability 0.51\n",
            "Brazil vs. Belgium: Belgium wins with probability 0.52\n",
            "Portugal vs. Argentina: Argentina wins with probability 0.52\n",
            "Germany vs. Poland: Germany wins with probability 0.52\n",
            "\n",
            "\n",
            "___Starting of the semifinal___\n",
            "Denmark vs. Belgium: Belgium wins with probability 0.57\n",
            "Argentina vs. Germany: Germany wins with probability 0.54\n",
            "\n",
            "\n",
            "___Starting of the final___\n",
            "Belgium vs. Germany: Germany wins with probability 0.53\n",
            "\n",
            "\n"
          ],
          "name": "stdout"
        }
      ]
    },
    {
      "cell_type": "markdown",
      "metadata": {
        "id": "eAbwBu4U2AQ7",
        "colab_type": "text"
      },
      "source": [
        "## Baseline model\n",
        "predict only win/ loss for each model"
      ]
    },
    {
      "cell_type": "code",
      "metadata": {
        "id": "uRQycxYV5KdZ",
        "colab_type": "code",
        "outputId": "9c43182a-4d25-4cc5-f6f1-b19753bec29d",
        "colab": {
          "base_uri": "https://localhost:8080/",
          "height": 230
        }
      },
      "source": [
        "print(classification_report(y_test, np.zeros(y_test.shape)))"
      ],
      "execution_count": 0,
      "outputs": [
        {
          "output_type": "stream",
          "text": [
            "              precision    recall  f1-score   support\n",
            "\n",
            "           0       0.52      1.00      0.69      1151\n",
            "           1       0.00      0.00      0.00      1054\n",
            "\n",
            "    accuracy                           0.52      2205\n",
            "   macro avg       0.26      0.50      0.34      2205\n",
            "weighted avg       0.27      0.52      0.36      2205\n",
            "\n"
          ],
          "name": "stdout"
        },
        {
          "output_type": "stream",
          "text": [
            "/usr/local/lib/python3.6/dist-packages/sklearn/metrics/classification.py:1437: UndefinedMetricWarning: Precision and F-score are ill-defined and being set to 0.0 in labels with no predicted samples.\n",
            "  'precision', 'predicted', average, warn_for)\n"
          ],
          "name": "stderr"
        }
      ]
    },
    {
      "cell_type": "code",
      "metadata": {
        "id": "3C11ie1HHSYg",
        "colab_type": "code",
        "outputId": "92effff2-8154-4cf5-b916-a046256d8387",
        "colab": {
          "base_uri": "https://localhost:8080/",
          "height": 230
        }
      },
      "source": [
        "print(classification_report(y_test, np.ones(y_test.shape)))"
      ],
      "execution_count": 0,
      "outputs": [
        {
          "output_type": "stream",
          "text": [
            "              precision    recall  f1-score   support\n",
            "\n",
            "           0       0.00      0.00      0.00      1151\n",
            "           1       0.48      1.00      0.65      1054\n",
            "\n",
            "    accuracy                           0.48      2205\n",
            "   macro avg       0.24      0.50      0.32      2205\n",
            "weighted avg       0.23      0.48      0.31      2205\n",
            "\n"
          ],
          "name": "stdout"
        },
        {
          "output_type": "stream",
          "text": [
            "/usr/local/lib/python3.6/dist-packages/sklearn/metrics/classification.py:1437: UndefinedMetricWarning: Precision and F-score are ill-defined and being set to 0.0 in labels with no predicted samples.\n",
            "  'precision', 'predicted', average, warn_for)\n"
          ],
          "name": "stderr"
        }
      ]
    }
  ]
}